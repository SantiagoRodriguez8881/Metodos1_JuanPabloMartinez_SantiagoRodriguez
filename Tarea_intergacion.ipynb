{
  "nbformat": 4,
  "nbformat_minor": 0,
  "metadata": {
    "colab": {
      "provenance": [],
      "authorship_tag": "ABX9TyPhxSu8BL/h6X/vqcnWJTm+",
      "include_colab_link": true
    },
    "kernelspec": {
      "name": "python3",
      "display_name": "Python 3"
    },
    "language_info": {
      "name": "python"
    }
  },
  "cells": [
    {
      "cell_type": "markdown",
      "metadata": {
        "id": "view-in-github",
        "colab_type": "text"
      },
      "source": [
        "<a href=\"https://colab.research.google.com/github/SantiagoRodriguez8881/Metodos1_JuanPabloMartinez_SantiagoRodriguez/blob/La-ramita-del-snat/Tarea_intergacion.ipynb\" target=\"_parent\"><img src=\"https://colab.research.google.com/assets/colab-badge.svg\" alt=\"Open In Colab\"/></a>"
      ]
    },
    {
      "cell_type": "code",
      "execution_count": 46,
      "metadata": {
        "colab": {
          "base_uri": "https://localhost:8080/"
        },
        "id": "MiQgCc2LvNMx",
        "outputId": "e1a5abbf-1746-4341-fddd-78d41ef0b388"
      },
      "outputs": [
        {
          "output_type": "stream",
          "name": "stdout",
          "text": [
            "0.7443683397636671\n",
            "0.7468241328124271\n",
            "0.00245579304875998\n"
          ]
        }
      ],
      "source": [
        "# TAREA #3 // INTEGRACION\n",
        "\n",
        "import numpy as np\n",
        "import matplotlib.pyplot as plt\n",
        "import sympy as sym\n",
        "\n",
        "# Ejercicio 5:\n",
        "\n",
        "#Vamos a definir nuestra funcion que queremos integrar:\n",
        "\n",
        "def f(x):\n",
        "    return np.e**(-x**2)\n",
        "\n",
        "# Vamos a crear una funcion que haga el metodo del trapecio: En este caso usaremos la regla del trapecio compuesta usando 5 puntos\n",
        "\n",
        "def trapecio(f, a, b, n):\n",
        "    h = (b-a)/n\n",
        "    suma = 0.5*(f(a)+f(b))\n",
        "    for i in range(1,n):\n",
        "        suma += f(a+i*h)\n",
        "    return h*suma\n",
        "\n",
        "estimacion = trapecio(f,0,1,5)\n",
        "print(estimacion)\n",
        "\n",
        "# Ahora vamos a integrar la funcion realmente a ver cuando da:\n",
        "\n",
        "# Vamos a usar el paquete de integracion\n",
        "from scipy.integrate import quad\n",
        "valor_real, error = quad(f, 0, 1)\n",
        "print(valor_real)\n",
        "\n",
        "# Ahora vamos a ver la presicion de la aproximacion con el trapecio\n",
        "\n",
        "Presicion = abs(valor_real-estimacion)\n",
        "print(Presicion)\n",
        "\n",
        "# Cumple el requisito de que el error debe ser menor a 0.005\n",
        "\n"
      ]
    },
    {
      "cell_type": "code",
      "source": [
        "# EJERCICIO 6:\n",
        "\n",
        "# Vamos a realizar dos estimaciones, la del trapecio y la de Simpson 1/3:\n",
        "\n",
        "def f6(x,R=0.5,a=0.01):\n",
        "  return (np.sqrt(a**2 - x**2))/(R + x)\n",
        "\n",
        "a = 0.01\n",
        "\n",
        "# Calculemos el valor real de la integral:\n",
        "\n",
        "Valor,error = quad(f6, -a, a)\n",
        "\n",
        "# Usando la regla del trapecio:\n",
        "\n",
        "Estimacion_trapecio = trapecio(f6,-a,a,40)\n",
        "\n",
        "# Usando la regla de Simpson 1/3:\n",
        "\n",
        "def Simpson(f, a, b):\n",
        "    h = (b-a)/2\n",
        "    xm = a + (h/2)\n",
        "    return (h/3)*(f6(a)+4*f6(xm)+f6(b))\n",
        "\n",
        "Estimacion_simpson = Simpson(f6,-a,a)\n",
        "\n",
        "# Luego de esto, vamos a calcular los errores en cada una de las aproximaciones:\n",
        "Error_trapecio = (abs(Valor - Estimacion_trapecio)/Valor)*100\n",
        "Error_simpson = (abs(Valor - Estimacion_simpson)/Valor)*100\n",
        "\n",
        "print(Valor)\n",
        "print(Error_trapecio)\n",
        "print(Error_simpson)\n",
        "\n",
        "# Nos damos cuenta que ambas estimaciones son bastante precisas, el error de hecho es del 0.5% aproximadamente"
      ],
      "metadata": {
        "colab": {
          "base_uri": "https://localhost:8080/"
        },
        "id": "rRlcsJO02npG",
        "outputId": "baf2f288-60d2-444d-eb84-b3d8b30e01a0"
      },
      "execution_count": 47,
      "outputs": [
        {
          "output_type": "stream",
          "name": "stdout",
          "text": [
            "0.00031419068757027204\n",
            "0.41799334715221453\n",
            "25.754376159211102\n"
          ]
        }
      ]
    },
    {
      "cell_type": "code",
      "source": [
        "# EJERCICIO 7:\n",
        "\n",
        "# Vamos a crear nuestro conjunto de soporte para poder pintar la esfera\n",
        "R = 1\n",
        "X,Y = np.meshgrid(np.linspace(-R,R,100),np.linspace(-R,R,100))\n",
        "def circunferencia(x,y):\n",
        "  return x**2 + y**2\n",
        "\n",
        "# Tenemos que escribir Z en terminos de X y Y para cumplir con que sea una curva en R2\n",
        "Z = np.sqrt(R**2 - X**2 - Y**2)\n",
        "\n",
        "# Filtraremos los valores donde la raíz cuadrada es imaginaria (fuera de la esfera)\n",
        "Z[np.isnan(Z)] = 0\n",
        "\n",
        "# Vamos a pintar la grafica, siendo F0 la curva en sí\n",
        "\n",
        "F0 = np.zeros_like(X)\n",
        "for i in range(X.shape[0]):\n",
        "  for j in range(X.shape[1]):\n",
        "    F0[i,j] = circunferencia(X[i,j],Y[i,j])\n",
        "\n",
        "#fig = plt.figure()\n",
        "#ax = fig.add_subplot(111, projection='3d')\n",
        "#ax.plot_surface(X, Y, Z, color='b')\n",
        "#ax.set_xlabel('X')\n",
        "#ax.set_ylabel('Y')\n",
        "#ax.set_zlabel('Z')\n",
        "#plt.show()\n",
        "\n",
        "\n",
        "def esfera(x, y):\n",
        "    return np.where(x**2 + y**2 <= R**2, np.sqrt(R**2 - x**2 - y**2), 0)\n",
        "\n",
        "integral_matrix = np.zeros_like(X)\n",
        "\n",
        "def promedio(X, Y):\n",
        "    dx = X[1, 0] - X[0, 0]  # Suponiendo una malla uniforme\n",
        "    dy = Y[0, 1] - Y[0, 0]  # Suponiendo una malla uniforme\n",
        "    area = dx * dy\n",
        "\n",
        "    total_integral = 0\n",
        "    for i in range(X.shape[0] - 1):\n",
        "        for j in range(X.shape[1] - 1):\n",
        "            # Vértices del cuadrado pequeño\n",
        "            x1, x2 = X[i, j], X[i + 1, j]\n",
        "            y1, y2 = Y[i, j], Y[i, j + 1]\n",
        "\n",
        "            # Función en los vértices\n",
        "            f00 = esfera(x1, y1)\n",
        "            f01 = esfera(x1, y2)\n",
        "            f10 = esfera(x2, y1)\n",
        "            f11 = esfera(x2, y2)\n",
        "\n",
        "            # Promedio de la función en los vértices\n",
        "            f_avg = (f00 + f01 + f10 + f11) / 4\n",
        "\n",
        "            # Valor integral en el cuadrado pequeño\n",
        "            integral_matrix[i, j] = f_avg * area\n",
        "            total_integral += integral_matrix[i, j]\n",
        "\n",
        "    return total_integral\n",
        "\n",
        "print(promedio(X,Y))\n"
      ],
      "metadata": {
        "id": "LSgz-gVOQoJv",
        "colab": {
          "base_uri": "https://localhost:8080/"
        },
        "outputId": "20a23a9b-315a-409c-967e-7eaa9ae139f8"
      },
      "execution_count": 48,
      "outputs": [
        {
          "output_type": "stream",
          "name": "stderr",
          "text": [
            "<ipython-input-48-066452ff2db5>:10: RuntimeWarning: invalid value encountered in sqrt\n",
            "  Z = np.sqrt(R**2 - X**2 - Y**2)\n",
            "<ipython-input-48-066452ff2db5>:32: RuntimeWarning: invalid value encountered in sqrt\n",
            "  return np.where(x**2 + y**2 <= R**2, np.sqrt(R**2 - x**2 - y**2), 0)\n"
          ]
        },
        {
          "output_type": "stream",
          "name": "stdout",
          "text": [
            "0.0\n"
          ]
        }
      ]
    },
    {
      "cell_type": "code",
      "source": [
        "# EJERCICIO 9:\n",
        "\n",
        "# a ))    Queremos usar la regla de Simpson 3/8, tenemos que integrar un polinomio interpolador de grado 3:\n",
        "\n",
        "x = sym.Symbol('x')\n",
        "a = sym.Symbol('a')\n",
        "\n",
        "# Definimos b como a mas el ultimo paso \"3*h\"\n",
        "b = a+3 * h\n",
        "h = sym.Symbol('h')\n",
        "hh = (b-a)/3\n",
        "X = np.array([0,h,2*h,3*h])\n",
        "\n",
        "# Vamos a hallar el polinomio interpolador de grado 3 que pase por los puntos en X\n",
        "\n",
        "def Lagrange(x,X,i):\n",
        "  L = 1\n",
        "  for j in range(len(X)):\n",
        "    if i != j:\n",
        "      L *= (x-X[j])/(X[i]-X[j])\n",
        "  return L\n",
        "\n",
        "def Aproximacion(X,Y):\n",
        "    polinomio = 0\n",
        "    for i in range(len(X)):\n",
        "        polinomio += Y[i]*Lagrange(x,X,i)\n",
        "    return polinomio\n",
        "\n",
        "# Vamos a definir nuestra funcion generalizada \"f9\" como cualquier funcion.\n",
        "\n",
        "f9 = sym.Function('f')(x)\n",
        "Y = np.array([f9.subs(x,X[i]) for i in range(len(X))])\n",
        "Aprox = Aproximacion(X,Y)\n",
        "\n",
        "# Vamos a replazar x con -a+x para integrar, de esta forma ajustamos nuestro intervalo de integracion como [a,b].\n",
        "Aprox = Aprox.subs(x,-a+x)\n",
        "P = Aprox\n",
        "P = sym.integrate(P,(x,a,b))\n",
        "P = sym.simplify(P)\n",
        "print(P)\n",
        "\n",
        "# b ))    Queremos demostrar que los puntos intermedios son (2a + b)/3 y a + (2b)/3 respectivamente\n",
        "\n",
        "# Dado que tenemos una distribucion equiespaciada de los puntos, los dos puntos intermedios corresponden a \" a + h \" y a \" a+ 2h \".\n",
        "# Tenemos en cuenta que h es el salto, por lo cual se define como \" b - a / 3\", entonces:\n",
        "\n",
        "A, B = sym.symbols('A B')\n",
        "H = (B-A)/3\n",
        "\n",
        "h1 = A + H\n",
        "h2 = A + 2*H\n",
        "\n",
        "h1,h2\n",
        "\n",
        "# De esta forma hemos demostrado que los puntos intermedios son \"(2a + b)/3\" y \"a + (2b)/3\" respectivamente."
      ],
      "metadata": {
        "colab": {
          "base_uri": "https://localhost:8080/"
        },
        "id": "H7x8sXVAeocO",
        "outputId": "29d98661-c529-45e0-dc59-86dd9b023568"
      },
      "execution_count": 58,
      "outputs": [
        {
          "output_type": "stream",
          "name": "stdout",
          "text": [
            "3*h*(f(0) + 3*f(h) + 3*f(2*h) + f(3*h))/8\n"
          ]
        },
        {
          "output_type": "execute_result",
          "data": {
            "text/plain": [
              "(2*A/3 + B/3, A/3 + 2*B/3)"
            ]
          },
          "metadata": {},
          "execution_count": 58
        }
      ]
    },
    {
      "cell_type": "code",
      "source": [
        "# EJERCICIO 10\n",
        "\n",
        "\n"
      ],
      "metadata": {
        "id": "fIV6Uf_4tlrx"
      },
      "execution_count": 50,
      "outputs": []
    }
  ]
}