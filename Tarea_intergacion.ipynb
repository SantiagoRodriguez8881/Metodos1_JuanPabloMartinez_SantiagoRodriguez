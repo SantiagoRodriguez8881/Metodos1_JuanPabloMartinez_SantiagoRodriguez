{
  "nbformat": 4,
  "nbformat_minor": 0,
  "metadata": {
    "colab": {
      "provenance": [],
      "authorship_tag": "ABX9TyMwP/XkPifiaHHa2/zWp+tg",
      "include_colab_link": true
    },
    "kernelspec": {
      "name": "python3",
      "display_name": "Python 3"
    },
    "language_info": {
      "name": "python"
    }
  },
  "cells": [
    {
      "cell_type": "markdown",
      "metadata": {
        "id": "view-in-github",
        "colab_type": "text"
      },
      "source": [
        "<a href=\"https://colab.research.google.com/github/SantiagoRodriguez8881/Metodos1_JuanPabloMartinez_SantiagoRodriguez/blob/La-ramita-del-snat/Tarea_intergacion.ipynb\" target=\"_parent\"><img src=\"https://colab.research.google.com/assets/colab-badge.svg\" alt=\"Open In Colab\"/></a>"
      ]
    },
    {
      "cell_type": "code",
      "execution_count": 2,
      "metadata": {
        "colab": {
          "base_uri": "https://localhost:8080/"
        },
        "id": "MiQgCc2LvNMx",
        "outputId": "e08b1f96-2e7c-4138-a8cb-0921896693df"
      },
      "outputs": [
        {
          "output_type": "stream",
          "name": "stdout",
          "text": [
            "0.7443683397636671\n",
            "0.7468241328124271\n",
            "0.00245579304875998\n"
          ]
        }
      ],
      "source": [
        "# TAREA #3 // INTEGRACION\n",
        "\n",
        "import numpy as np\n",
        "import matplotlib.pyplot as plt\n",
        "import sympy as sym\n",
        "\n",
        "# Ejercicio 5:\n",
        "\n",
        "#Vamos a definir nuestra funcion que queremos integrar:\n",
        "\n",
        "def f(x):\n",
        "    return np.e**(-x**2)\n",
        "\n",
        "# Vamos a crear una funcion que haga el metodo del trapecio: En este caso usaremos la regla del trapecio compuesta usando 5 puntos\n",
        "\n",
        "def trapecio(f, a, b, n):\n",
        "    h = (b-a)/n\n",
        "    suma = 0.5*(f(a)+f(b))\n",
        "    for i in range(1,n):\n",
        "        suma += f(a+i*h)\n",
        "    return h*suma\n",
        "\n",
        "estimacion = trapecio(f,0,1,5)\n",
        "print(estimacion)\n",
        "\n",
        "# Ahora vamos a integrar la funcion realmente a ver cuando da:\n",
        "\n",
        "# Vamos a usar el paquete de integracion\n",
        "from scipy.integrate import quad\n",
        "valor_real, error = quad(f, 0, 1)\n",
        "print(valor_real)\n",
        "\n",
        "# Ahora vamos a ver la presicion de la aproximacion con el trapecio\n",
        "\n",
        "Presicion = abs(valor_real-estimacion)\n",
        "print(Presicion)\n",
        "\n",
        "# Cumple el requisito de que el error debe ser menor a 0.005\n",
        "\n"
      ]
    },
    {
      "cell_type": "code",
      "source": [
        "# EJERCICIO 6:\n",
        "\n",
        "# Vamos a realizar dos estimaciones, la del trapecio y la de Simpson 1/3:\n",
        "\n",
        "def f6(x,R=0.5,a=0.01):\n",
        "  return (np.sqrt(a**2 - x**2))/(R + x)\n",
        "\n",
        "a = 0.01\n",
        "\n",
        "# Calculemos el valor real de la integral:\n",
        "\n",
        "Valor,error = quad(f6, -a, a)\n",
        "\n",
        "# Usando la regla del trapecio:\n",
        "\n",
        "Estimacion_trapecio = trapecio(f6,-a,a,5)\n",
        "\n",
        "# Usando la regla de Simpson 1/3:\n",
        "\n",
        "def Simpson(f, a, b):\n",
        "    h = (b-a)/2\n",
        "    xm = a + (h/2)\n",
        "    return (h/3)*(f6(a)+4*f6(xm)+f6(b))\n",
        "\n",
        "Estimacion_simpson = Simpson(f6,-a,a)\n",
        "\n",
        "# Luego de esto, vamos a calcular los errores en cada una de las aproximaciones:\n",
        "Error_trapecio = abs(Valor - Estimacion_trapecio)\n",
        "Error_simpson = abs(Valor - Estimacion_simpson)\n",
        "\n",
        "print(Valor)\n",
        "print(Error_trapecio)\n",
        "print(Error_simpson)\n",
        "\n",
        "# Nos damos cuenta que ambas estimaciones son bastante precisas, el error de hecho es del 0.5% aproximadamente"
      ],
      "metadata": {
        "colab": {
          "base_uri": "https://localhost:8080/"
        },
        "id": "rRlcsJO02npG",
        "outputId": "b2db81e3-4cfa-40a1-cfe6-62733aeb16cb"
      },
      "execution_count": 3,
      "outputs": [
        {
          "output_type": "stream",
          "name": "stdout",
          "text": [
            "0.00031419068757027204\n",
            "2.9402401059928636e-05\n",
            "8.091785153405959e-05\n"
          ]
        }
      ]
    },
    {
      "cell_type": "code",
      "source": [
        "# EJERCICIO 7:\n",
        "\n"
      ],
      "metadata": {
        "id": "LSgz-gVOQoJv"
      },
      "execution_count": 4,
      "outputs": []
    },
    {
      "cell_type": "code",
      "source": [
        "# EJERCICIO 9:\n",
        "\n",
        "# Queremos usar la regla de Simpson 3/8, tenemos que integrar un polinomio interpolador de grado 3:\n",
        "\n",
        "x = sym.Symbol('x')\n",
        "a = sym.Symbol('a')\n",
        "b = sym.Symbol('b')\n",
        "h = sym.Symbol('h')\n",
        "hh = (b-a)/3\n",
        "X = np.array([0,h,2*h,3*h])\n",
        "\n",
        "# Vamos a hallar el polinomio interpolador de grado 3 que pase por los puntos en X\n",
        "\n",
        "def Lagrange(x,X,i):\n",
        "  L = 1\n",
        "  for j in range(len(X)):\n",
        "    if i != j:\n",
        "      L *= (x-X[j])/(X[i]-X[j])\n",
        "  return L\n",
        "\n",
        "def Aproximacion(X,Y):\n",
        "    polinomio = 0\n",
        "    for i in range(len(X)):\n",
        "        polinomio += Lagrange(x,X,i)\n",
        "    return polinomio\n",
        "\n",
        "f9 = sym.Function('f')(x)\n",
        "Y = np.array([f9.subs(x,i) for i in range(len(X))])\n",
        "Aprox = Aproximacion(X,Y)\n",
        "Aprox = sym.integrate(Aprox,(x,a,b))\n",
        "A = (sym.integrate(Aprox,(x,a,b)))\n",
        "A\n",
        "\n"
      ],
      "metadata": {
        "colab": {
          "base_uri": "https://localhost:8080/",
          "height": 38
        },
        "id": "H7x8sXVAeocO",
        "outputId": "3fa215d0-c2ff-4fd2-d6f6-3707ff006ce7"
      },
      "execution_count": 45,
      "outputs": [
        {
          "output_type": "execute_result",
          "data": {
            "text/plain": [
              "-a*(-a + b) + b*(-a + b)"
            ],
            "text/latex": "$\\displaystyle - a \\left(- a + b\\right) + b \\left(- a + b\\right)$"
          },
          "metadata": {},
          "execution_count": 45
        }
      ]
    },
    {
      "cell_type": "code",
      "source": [
        "import sympy as sp\n",
        "\n",
        "# Definir la variable y los puntos\n",
        "x = sp.symbols('x')\n",
        "a, h = sp.symbols('a h')\n",
        "b = a + 3 * h\n",
        "\n",
        "# Definir el polinomio interpolador\n",
        "P3 = (f9.subs(x,0) * ((x - (a + h)) * (x - (a + 2*h)) * (x - b)) / ((a - (a + h)) * (a - (a + 2*h)) * (a - b)) +\n",
        "      f9.subs(x,h) * ((x - a) * (x - (a + 2*h)) * (x - b)) / ((a + h - a) * (a + h - (a + 2*h)) * (a + h - b)) +\n",
        "      f9.subs(x,2*h) * ((x - a) * (x - (a + h)) * (x - b)) / ((a + 2*h - a) * (a + 2*h - (a + h)) * (a + 2*h - b)) +\n",
        "      f9.subs(x,3*h) * ((x - a) * (x - (a + h)) * (x - (a + 2*h))) / ((b - a) * (b - (a + h)) * (b - (a + 2*h))))\n",
        "\n",
        "# Integrar el polinomio en el intervalo [a, b]\n",
        "integral = sp.integrate(P3, (x, a, b))\n",
        "\n",
        "# Simplificar la expresión\n",
        "simplified_integral = sp.simplify(integral)\n",
        "simplified_integral"
      ],
      "metadata": {
        "colab": {
          "base_uri": "https://localhost:8080/",
          "height": 53
        },
        "id": "JFFgowMXqHOX",
        "outputId": "49cd88ba-3c5c-4619-dc76-5899fa2bdaec"
      },
      "execution_count": 30,
      "outputs": [
        {
          "output_type": "execute_result",
          "data": {
            "text/plain": [
              "3*h*(f(0) + 3*f(h) + 3*f(2*h) + f(3*h))/8"
            ],
            "text/latex": "$\\displaystyle \\frac{3 h \\left(f{\\left(0 \\right)} + 3 f{\\left(h \\right)} + 3 f{\\left(2 h \\right)} + f{\\left(3 h \\right)}\\right)}{8}$"
          },
          "metadata": {},
          "execution_count": 30
        }
      ]
    },
    {
      "cell_type": "code",
      "source": [
        "# EJERCICIO 10\n",
        "\n"
      ],
      "metadata": {
        "id": "fIV6Uf_4tlrx"
      },
      "execution_count": null,
      "outputs": []
    }
  ]
}