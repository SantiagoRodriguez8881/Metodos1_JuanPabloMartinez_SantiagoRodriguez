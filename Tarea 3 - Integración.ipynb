{
 "cells": [
  {
   "cell_type": "code",
   "execution_count": 641,
   "metadata": {},
   "outputs": [],
   "source": [
    "#TAREA 3 (INTEGRACIÓN) - MÉTODOS COMPUTACIONALES (JUAN PABLO MARTÍNEZ Y SANTIAGO RODRÍGUEZ)"
   ]
  },
  {
   "cell_type": "code",
   "execution_count": 642,
   "metadata": {},
   "outputs": [],
   "source": [
    "import numpy as np\n",
    "import matplotlib.pyplot as plt\n",
    "import sympy as sym\n",
    "from scipy import integrate"
   ]
  },
  {
   "cell_type": "code",
   "execution_count": 643,
   "metadata": {},
   "outputs": [
    {
     "name": "stdout",
     "output_type": "stream",
     "text": [
      "La integral definida por método del trapecio con el error máximo dado es igual a 0.7451194124361793\n"
     ]
    }
   ],
   "source": [
    "#Ejercicio 3.\n",
    "a = 0\n",
    "b = 1\n",
    "funcion = lambda x: np.e**(-x**2)\n",
    "#f\"(x) alcanza un valor absoluto maximo de 2 para el intervalo [0,1] en ξ=0\n",
    "#Por lo tanto, [(1-0)^3 / 12n^2]*2 = 0.005\n",
    "#Resolviendo para n, n=5.77. Osea tomamos n=6\n",
    "n = 6\n",
    "x = np.linspace(a,b,n+1)\n",
    "class Integrator:\n",
    "    def __init__(self,x,y,n):\n",
    "        self.x=x\n",
    "        self.y=y\n",
    "        self.h=(x[-1]-x[0])/n\n",
    "        self.integral = 0.\n",
    "class TrapezoidMethod(Integrator):\n",
    "    def __init__(self,x,y,n):\n",
    "        Integrator.__init__(self,x,y,n)\n",
    "    def GetIntegral(self):\n",
    "        self.integral = 0.\n",
    "        self.integral += 0.5*( self.y[0]+self.y[-1] )\n",
    "        self.integral += np.sum( self.y[1:-1] )\n",
    "        return self.integral*self.h\n",
    "\n",
    "integrador = TrapezoidMethod(x,funcion(x),n)\n",
    "print(f\"La integral definida por método del trapecio con el error máximo dado es igual a {integrador.GetIntegral()}\")\n",
    "\n",
    "\n",
    "\n"
   ]
  },
  {
   "cell_type": "code",
   "execution_count": 644,
   "metadata": {},
   "outputs": [
    {
     "name": "stdout",
     "output_type": "stream",
     "text": [
      "El resultado de la estimación con método del trapecio fue 0.0003126527987679914 y el valor real es 0.0003141906875702543\n",
      "Es decir,el error fue de 0.49%\n"
     ]
    }
   ],
   "source": [
    "#Ejercicio 6.\n",
    "#Definimos la función\n",
    "R = 0.5\n",
    "a = 0.01\n",
    "inductancia = lambda x: np.sqrt(a**2-x**2)/(x+R)\n",
    "#Primero, método del trapecio\n",
    "n=36\n",
    "x=np.linspace(-a,a,n+1)\n",
    "integrador6 = TrapezoidMethod(x, inductancia(x), n)\n",
    "inductancia_trapecio = integrador6.GetIntegral()\n",
    "inductancia_real = np.pi*(R-np.sqrt(R**2-a**2))\n",
    "error_trapecio = np.abs((inductancia_trapecio-inductancia_real)/inductancia_real)*100\n",
    "print(f\"El resultado de la estimación con método del trapecio fue {inductancia_trapecio} y el valor real es {inductancia_real}\")\n",
    "print(f\"Es decir,el error fue de {round(error_trapecio,2)}%\")"
   ]
  },
  {
   "cell_type": "code",
   "execution_count": 645,
   "metadata": {},
   "outputs": [
    {
     "name": "stdout",
     "output_type": "stream",
     "text": [
      "El resultado de la estimación con método de 1/3 simpson fue 0.0002666666666666667 y el valor real es 0.0003141906875702543\n",
      "Es decir,el error fue de 15.13%\n"
     ]
    }
   ],
   "source": [
    "#Ahora, usamos Simpson 1/3\n",
    "n_simpson = 2 #Subintervalo par y en 1/3 debe ser 2\n",
    "x_simpson=np.linspace(-a,a,n_simpson+1)\n",
    "class SimpsonSimple(Integrator):\n",
    "    def __init__(self,x,y,n):\n",
    "        Integrator.__init__(self,x,y,n)\n",
    "    def GetIntegral(self):\n",
    "        self.integral = 0.\n",
    "        self.integral += self.y[0] + 4*self.y[1:-1][0] + self.y[-1] #Se hace el segundo slicing porque solo son 3 valores\n",
    "        #Entonces [1:-1] da el valor entre el primero y el ultimo, ya que solo hay uno en la mitad.\n",
    "        return self.integral*(self.h/3)\n",
    "inductancia_simpson = SimpsonSimple(x_simpson, inductancia(x_simpson),n_simpson).GetIntegral()\n",
    "error_simpson = np.abs((inductancia_simpson-inductancia_real)/inductancia_real)*100\n",
    "inductancia_simpson\n",
    "print(f\"El resultado de la estimación con método de 1/3 simpson fue {inductancia_simpson} y el valor real es {inductancia_real}\")\n",
    "print(f\"Es decir,el error fue de {round(error_simpson,2)}%\")\n"
   ]
  }
 ],
 "metadata": {
  "kernelspec": {
   "display_name": "Python 3",
   "language": "python",
   "name": "python3"
  },
  "language_info": {
   "codemirror_mode": {
    "name": "ipython",
    "version": 3
   },
   "file_extension": ".py",
   "mimetype": "text/x-python",
   "name": "python",
   "nbconvert_exporter": "python",
   "pygments_lexer": "ipython3",
   "version": "3.12.6"
  }
 },
 "nbformat": 4,
 "nbformat_minor": 2
}
