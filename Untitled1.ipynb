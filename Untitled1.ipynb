{
  "nbformat": 4,
  "nbformat_minor": 0,
  "metadata": {
    "colab": {
      "provenance": [],
      "authorship_tag": "ABX9TyO21qCoQUi8Mq7l/EhOKYL1",
      "include_colab_link": true
    },
    "kernelspec": {
      "name": "python3",
      "display_name": "Python 3"
    },
    "language_info": {
      "name": "python"
    }
  },
  "cells": [
    {
      "cell_type": "markdown",
      "metadata": {
        "id": "view-in-github",
        "colab_type": "text"
      },
      "source": [
        "<a href=\"https://colab.research.google.com/github/SantiagoRodriguez8881/Metodos1_JuanPabloMartinez_SantiagoRodriguez/blob/La-ramita-del-snat/Untitled1.ipynb\" target=\"_parent\"><img src=\"https://colab.research.google.com/assets/colab-badge.svg\" alt=\"Open In Colab\"/></a>"
      ]
    },
    {
      "cell_type": "code",
      "execution_count": 43,
      "metadata": {
        "id": "tK0liVG_axnG"
      },
      "outputs": [],
      "source": [
        "import numpy as np\n",
        "import matplotlib.pyplot as plt\n",
        "import sympy as sym"
      ]
    },
    {
      "cell_type": "code",
      "source": [
        "#Definicion del conjunto de soporte para nuestro ejercicio\n",
        "X = np.array([100,121,144])\n",
        "Y = np.array([10,11,12])\n",
        "x = sym.Symbol('x',real=True)\n",
        "valor = 114\n",
        "\n",
        "#Definimos la funcion la cual queremos aproximar\n",
        "def Funcion(x):\n",
        "  return np.sqrt(x)\n",
        "\n",
        "#Creamos el algoritmo que sintetiza la productoria dentro de la interpolacion\n",
        "def Lagrange(x,X,i):\n",
        "  c = 1\n",
        "  for j in range(len(X)):\n",
        "    if i != j:\n",
        "      c *= (x-X[j])/(X[i]-X[j])\n",
        "  return c\n",
        "\n",
        "#Creamos el algoritmo que sintetiza la interpolacion de Lagrange\n",
        "def Aproximacion(x,X,Y):\n",
        "  suma = 0\n",
        "  for i in range(len(X)):\n",
        "    suma += Y[i]*Lagrange(x,X,i)\n",
        "  return suma\n"
      ],
      "metadata": {
        "collapsed": true,
        "id": "c4BpDnBWbigU"
      },
      "execution_count": 44,
      "outputs": []
    },
    {
      "cell_type": "code",
      "source": [
        "b = Aproximacion(x,X,Y)\n",
        "c = b.subs(x,valor)\n",
        "c\n",
        "#Definimos el valor que arroja la funcion al probarla con 114\n",
        "\n",
        "a = np.sqrt(valor)\n",
        "a\n",
        "#El valor exacto de la raiz cuadrada de 114\n",
        "\n",
        "#Definimos la funcion que nos arroja error en la aproximacion\n",
        "def Error(f,value):\n",
        "  b = Aproximacion(x,X,Y)\n",
        "  b = b.subs(x,value)\n",
        "  return f-b\n",
        "\n",
        "print(Error(Funcion(114),114))\n",
        "#El resultado tiene un error del orden de 10^-3"
      ],
      "metadata": {
        "colab": {
          "base_uri": "https://localhost:8080/"
        },
        "collapsed": true,
        "id": "BqYPmot7gGnn",
        "outputId": "5f0fd6f0-a9ef-402d-a0a5-5ca8bad3515f"
      },
      "execution_count": 45,
      "outputs": [
        {
          "output_type": "stream",
          "name": "stdout",
          "text": [
            "0.00118892396807091\n"
          ]
        }
      ]
    }
  ]
}