{
 "cells": [
  {
   "cell_type": "code",
   "execution_count": 1,
   "metadata": {},
   "outputs": [],
   "source": [
    "import numpy as np\n",
    "import matplotlib.pyplot as plt\n",
    "from itertools import permutations\n",
    "from itertools import combinations\n",
    "from itertools import combinations_with_replacement\n",
    "import pandas as pd"
   ]
  },
  {
   "cell_type": "code",
   "execution_count": 2,
   "metadata": {},
   "outputs": [],
   "source": [
    "#PROCESOS DE MARKOV: EJERCICIO 2"
   ]
  },
  {
   "cell_type": "code",
   "execution_count": 3,
   "metadata": {},
   "outputs": [],
   "source": [
    "#a) Cada estado observable es la estación en la que esta el producto: en producción, empaque o en el mercado"
   ]
  },
  {
   "cell_type": "code",
   "execution_count": 4,
   "metadata": {},
   "outputs": [],
   "source": [
    "#b) El conjunto de estados es:\n",
    "ConjuntoEstados = {0:\"Produccion\", 1:\"Empaque\", 2:\"Mercado\"}"
   ]
  },
  {
   "cell_type": "code",
   "execution_count": 5,
   "metadata": {},
   "outputs": [],
   "source": [
    "#c)\n",
    "T = np.array([[0.1, 0.9, 0.0],\n",
    "              [0.0, 0.05, 0.95],\n",
    "              [0.0, 0.0, 1.]])"
   ]
  },
  {
   "cell_type": "code",
   "execution_count": 6,
   "metadata": {},
   "outputs": [
    {
     "name": "stdout",
     "output_type": "stream",
     "text": [
      "El estado estable es:\n"
     ]
    },
    {
     "data": {
      "text/plain": [
       "array([1.0e-100, 1.8e-099, 1.0e+000])"
      ]
     },
     "execution_count": 6,
     "metadata": {},
     "output_type": "execute_result"
    }
   ],
   "source": [
    "#d)\n",
    "pi = np.array([1., 0., 0.])\n",
    "states = np.array([pi])\n",
    "for i in range(100):\n",
    "    pi = np.dot(pi,T)\n",
    "    states = np.vstack((states,pi))\n",
    "    if states[i-1] is states[i]:\n",
    "        break\n",
    "        \n",
    "print(\"El estado estable es:\")\n",
    "pi"
   ]
  },
  {
   "cell_type": "code",
   "execution_count": 7,
   "metadata": {},
   "outputs": [],
   "source": [
    "#La interpretación es que el estado estable es aquel en el que todos los productos terminan en el mercado"
   ]
  },
  {
   "cell_type": "code",
   "execution_count": 8,
   "metadata": {},
   "outputs": [
    {
     "name": "stdout",
     "output_type": "stream",
     "text": [
      "La probabilidad en estado estable de que ambas estaciones estén ocupadas al mismo tiempo es P=0.0\n"
     ]
    }
   ],
   "source": [
    "#e) La probabilidad que haya productos tanto en producción como en empaque es la intersección.\n",
    "# En un estado estable, esto es igual al producto:\n",
    "P_ambas = pi[0]*pi[1]\n",
    "print(f\"La probabilidad en estado estable de que ambas estaciones estén ocupadas al mismo tiempo es P={round(P_ambas,2)}\")"
   ]
  },
  {
   "cell_type": "code",
   "execution_count": 9,
   "metadata": {},
   "outputs": [
    {
     "name": "stdout",
     "output_type": "stream",
     "text": [
      "La  probabilidad  en  estado  estable  de  que  al  menos  una  estacion  este ocupada es P=0.0\n"
     ]
    }
   ],
   "source": [
    "#f) La probabilidad de que una estación esté ocupada es la unión\n",
    "# En une estado estable, esto es igual a la suma:\n",
    "P_alguna = pi[0] + pi[1]\n",
    "print(f\"La  probabilidad  en  estado  estable  de  que  al  menos  una  estacion  este ocupada es P={round(P_alguna,2)}\")\n"
   ]
  },
  {
   "cell_type": "code",
   "execution_count": 10,
   "metadata": {},
   "outputs": [
    {
     "name": "stdout",
     "output_type": "stream",
     "text": [
      "La probabilidad en estado estable de que la estacion de produccion este vacia es P=1.0\n"
     ]
    }
   ],
   "source": [
    "#g) La probabilidad de que producción esté vacía es la probabilidad que esté en otro estado: Osea, la suma de las otras P.\n",
    "P_prodnovacia = pi[1] + pi[2]\n",
    "print(f\"La probabilidad en estado estable de que la estacion de produccion este vacia es P={round(P_prodnovacia,5)}\")\n"
   ]
  },
  {
   "cell_type": "code",
   "execution_count": 11,
   "metadata": {},
   "outputs": [],
   "source": [
    "#PROCESOS DE MARKOV: EJERCICIO 3"
   ]
  },
  {
   "cell_type": "code",
   "execution_count": 12,
   "metadata": {},
   "outputs": [],
   "source": [
    "#a) Cada estado observable es, como antes, la estación en la que esta el producto: en producción, empaque o en el mercado"
   ]
  },
  {
   "cell_type": "code",
   "execution_count": 13,
   "metadata": {},
   "outputs": [],
   "source": [
    "#b) El conjunto de estados es:\n",
    "ConjuntoEstados = {0:\"Produccion\", 1:\"Empaque\", 2:\"Mercado\"}"
   ]
  },
  {
   "cell_type": "code",
   "execution_count": 14,
   "metadata": {},
   "outputs": [],
   "source": [
    "#c) La matriz de transición está dada por:\n",
    "T3 = np.array([[0.1, 0.9, 0.0],\n",
    "              [0.0, 0.05, 0.95],\n",
    "              [0.02, 0.0, 0.98]])"
   ]
  },
  {
   "cell_type": "code",
   "execution_count": 15,
   "metadata": {},
   "outputs": [
    {
     "name": "stdout",
     "output_type": "stream",
     "text": [
      "El estado estable es:\n"
     ]
    },
    {
     "data": {
      "text/plain": [
       "array([0.02130045, 0.02017937, 0.95852018])"
      ]
     },
     "execution_count": 15,
     "metadata": {},
     "output_type": "execute_result"
    }
   ],
   "source": [
    "#d)\n",
    "pi3 = np.array([1., 0., 0.])\n",
    "states3 = np.array([pi3])\n",
    "for i in range(100):\n",
    "    pi3 = np.dot(pi3,T3)\n",
    "    states3 = np.vstack((states,pi3))\n",
    "    if states3[i-1] is states3[i]:\n",
    "        break\n",
    "        \n",
    "print(\"El estado estable es:\")\n",
    "pi3"
   ]
  },
  {
   "cell_type": "code",
   "execution_count": 16,
   "metadata": {},
   "outputs": [],
   "source": [
    "#Hay que aplicar los mismos razonamientos que en el punto 2:"
   ]
  },
  {
   "cell_type": "code",
   "execution_count": 17,
   "metadata": {},
   "outputs": [
    {
     "name": "stdout",
     "output_type": "stream",
     "text": [
      "La probabilidad en estado estable de que ambas estaciones estén ocupadas al mismo tiempo es P=0.043%\n"
     ]
    }
   ],
   "source": [
    "#e)\n",
    "P_ambas3 = pi3[0]*pi3[1]\n",
    "print(f\"La probabilidad en estado estable de que ambas estaciones estén ocupadas al mismo tiempo es P={round(P_ambas3*100, 3)}%\")"
   ]
  },
  {
   "cell_type": "code",
   "execution_count": 18,
   "metadata": {},
   "outputs": [
    {
     "name": "stdout",
     "output_type": "stream",
     "text": [
      "La  probabilidad  en  estado  estable  de  que  al  menos  una  estacion  este ocupada es P=4.15%\n"
     ]
    }
   ],
   "source": [
    "#f)\n",
    "P_alguna3 = pi3[0] + pi3[1]\n",
    "print(f\"La  probabilidad  en  estado  estable  de  que  al  menos  una  estacion  este ocupada es P={round(P_alguna3*100, 2)}%\")"
   ]
  },
  {
   "cell_type": "code",
   "execution_count": 19,
   "metadata": {},
   "outputs": [
    {
     "name": "stdout",
     "output_type": "stream",
     "text": [
      "La probabilidad en estado estable de que la estacion de produccion este vacia es P=97.87%\n"
     ]
    }
   ],
   "source": [
    "#g)\n",
    "P_prodnovacia3 = pi3[1] + pi3[2]\n",
    "print(f\"La probabilidad en estado estable de que la estacion de produccion este vacia es P={round(P_prodnovacia3*100,2)}%\")"
   ]
  },
  {
   "cell_type": "code",
   "execution_count": 20,
   "metadata": {},
   "outputs": [
    {
     "name": "stdout",
     "output_type": "stream",
     "text": [
      "La secuencia oculta más probable para [1, 0, 0, 0, 1, 0, 1, 0] es ['B', 'B', 'B', 'B', 'J', 'J', 'J', 'J'] con probabilidad 0.000191\n"
     ]
    }
   ],
   "source": [
    "#HIDDEN MARKOV MODELS: EJERCICIO 1\n",
    "#a)\n",
    "priori = np.array([0.2,0.8])\n",
    "T = np.array([[0.8, 0.2], \n",
    "              [0.2, 0.8]])\n",
    "E = np.array([[0.5, 0.9], \n",
    "              [0.5, 0.1]])\n",
    "Estados = np.array([0,1])\n",
    "DictHidden = {0:'J',1:'B'}\n",
    "DictObservado = {0:'C',1:'S'}\n",
    "#b)\n",
    "ObservadoSimbolo = [\"S\",\"C\",\"C\",\"C\",\"S\",\"C\",\"S\",\"C\"]\n",
    "Observado = [1, 0, 0, 0, 1, 0, 1, 0]\n",
    "\n",
    "def GetStates(State,N):\n",
    "    CStates = list(combinations_with_replacement(State,N))\n",
    "    Permu = []\n",
    "    for it in CStates:\n",
    "      p = list(permutations(it,N))\n",
    "      for i in p:\n",
    "        if i not in Permu:\n",
    "          Permu.append(i)\n",
    "    CStates = np.array(Permu)\n",
    "    return CStates\n",
    "\n",
    "Ocultos = GetStates(Estados, 8)\n",
    "\n",
    "def GetProb(T,E,Obs,State,Prior):\n",
    "\n",
    "  n = len(Obs)\n",
    "  p = 1.\n",
    "  # Probabilidad a priori\n",
    "  p *= Prior[State[0]] #State[0] es el primer estado oculto en la cadena (0 o 1)\n",
    "\n",
    "  for i in range(n-1): # El ultimo no va a ningun lado (se empezó con el prior)\n",
    "    p *= T[State[i+1], State[i]] #La fila es el estado al que llego, la columna del que salgo.\n",
    "\n",
    "  for i in range(n): #Para este NO hay prior, solo para los estados ocultos\n",
    "    p *= E[ Obs[i], State[i] ] \n",
    "\n",
    "  return p\n",
    "\n",
    "ProbabilidadesOcultos = np.zeros(Ocultos.shape[0])\n",
    "\n",
    "for i in range(ProbabilidadesOcultos.shape[0]):\n",
    "  ProbabilidadesOcultos[i] = GetProb(T, E, Observado, Ocultos[i], priori) \n",
    "  #Probabilidades de todos los estados ocultos posibles para lo observado\n",
    "\n",
    "IndiceMasProbable = np.where(ProbabilidadesOcultos == np.max(ProbabilidadesOcultos))\n",
    "OcultoMasProbable = []\n",
    "for ind in Ocultos[IndiceMasProbable][0]:\n",
    "  OcultoMasProbable.append(DictHidden[ind])\n",
    "print(f\"La secuencia oculta más probable para {Observado} es {OcultoMasProbable} con probabilidad {round(ProbabilidadesOcultos[IndiceMasProbable][0],6)}\")"
   ]
  },
  {
   "cell_type": "code",
   "execution_count": 21,
   "metadata": {},
   "outputs": [
    {
     "name": "stdout",
     "output_type": "stream",
     "text": [
      "           Secuencia  Probabilidad  Probabilidad Acumulada\n",
      "162  B,B,B,B,J,J,J,J  1.911030e-04                0.000191\n",
      "0    J,J,J,J,J,J,J,J  1.638400e-04                0.000355\n",
      "92   B,B,B,J,J,J,J,J  1.061683e-04                0.000461\n",
      "255  B,B,B,B,B,B,B,B  9.906778e-05                0.000560\n",
      "215  B,B,B,B,J,J,J,B  8.599634e-05                0.000646\n",
      "..               ...           ...                     ...\n",
      "76   B,J,J,J,B,J,B,J  5.120000e-09                0.001934\n",
      "190  B,J,B,J,B,J,B,B  4.147200e-09                0.001934\n",
      "61   J,B,J,J,B,J,B,J  2.880000e-09                0.001934\n",
      "51   J,J,B,J,B,J,B,J  2.880000e-09                0.001934\n",
      "142  B,J,B,J,B,J,B,J  5.760000e-10                0.001934\n",
      "\n",
      "[256 rows x 3 columns]\n"
     ]
    }
   ],
   "source": [
    "#c)\n",
    "Secuencias = []\n",
    "for i in range(Ocultos.shape[0]):\n",
    "    secuencia = [DictHidden[state] for state in Ocultos[i]]\n",
    "    Secuencias.append(\",\".join(secuencia))\n",
    "\n",
    "df = pd.DataFrame({\n",
    "    \"Secuencia\": Secuencias,\n",
    "    \"Probabilidad\": ProbabilidadesOcultos\n",
    "})\n",
    "\n",
    "# Ordenar el DataFrame por probabilidad de mayor a menor\n",
    "df = df.sort_values(by=\"Probabilidad\", ascending=False)\n",
    "\n",
    "# Calcular la probabilidad acumulada\n",
    "df[\"Probabilidad Acumulada\"] = df[\"Probabilidad\"].cumsum()\n",
    "\n",
    "# Filtrar secuencias cuya probabilidad acumulada sea <= 20%\n",
    "df_filtrado = df[df[\"Probabilidad Acumulada\"] <= 0.20]\n",
    "print(df_filtrado)"
   ]
  },
  {
   "cell_type": "code",
   "execution_count": 22,
   "metadata": {},
   "outputs": [
    {
     "data": {
      "text/plain": [
       "<matplotlib.legend.Legend at 0x2864c99a030>"
      ]
     },
     "execution_count": 22,
     "metadata": {},
     "output_type": "execute_result"
    },
    {
     "data": {
      "image/png": "[encoded data removed]",
      "text/plain": [
       "<Figure size 640x480 with 1 Axes>"
      ]
     },
     "metadata": {},
     "output_type": "display_data"
    }
   ],
   "source": [
    "#d)\n",
    "plt.plot(range(len(Ocultos)), ProbabilidadesOcultos, color=\"k\", label =\"Probabilidad por secuencia\")\n",
    "plt.axhline(0.000191, color=\"red\", xmin=0, xmax=len(Ocultos), label=\"MaxP=0.000191\")\n",
    "plt.legend()"
   ]
  },
  {
   "cell_type": "code",
   "execution_count": 23,
   "metadata": {},
   "outputs": [
    {
     "data": {
      "text/plain": [
       "array([0.13698241, 0.04114921, 0.0347373 , 0.03175272, 0.03026766,\n",
       "       0.02932288, 0.02830811, 0.02656789, 0.02297818, 0.01870516,\n",
       "       0.01330002, 0.01467809, 0.01079433, 0.01067359, 0.01276253,\n",
       "       0.00956961, 0.00877661, 0.00936674, 0.01172117, 0.00883478,\n",
       "       0.00776184, 0.00767971, 0.00853533, 0.01088136, 0.00811519,\n",
       "       0.00697382, 0.00661175, 0.00679511, 0.00764233, 0.00970066,\n",
       "       0.00694603, 0.00590355, 0.00547305, 0.00537647, 0.00555143,\n",
       "       0.00611094, 0.0074164 , 0.00955193, 0.00649319, 0.00616157,\n",
       "       0.00733671, 0.00505945, 0.00428819, 0.00497251, 0.00456283,\n",
       "       0.0048075 , 0.00623446, 0.00432462, 0.00337544, 0.00382959,\n",
       "       0.00321043, 0.00330316, 0.00416108, 0.00372302, 0.00355961,\n",
       "       0.00405611, 0.00553322, 0.00381405, 0.00283376, 0.00316972,\n",
       "       0.00249084, 0.00251514, 0.00309313, 0.00256378, 0.00241017,\n",
       "       0.0026765 , 0.00353481, 0.00309969, 0.00278698, 0.0028754 ,\n",
       "       0.00342205, 0.00478004, 0.00319794, 0.00231328, 0.00256666,\n",
       "       0.00193925, 0.00193444, 0.00234078, 0.00183427, 0.00170131,\n",
       "       0.00184945, 0.00237437, 0.00193054, 0.00171671, 0.0017367 ,\n",
       "       0.00200341, 0.00268914, 0.00229023, 0.00199057, 0.00192969,\n",
       "       0.00206826, 0.00249578, 0.00348841, 0.00497054, 0.0033236 ,\n",
       "       0.00304519, 0.00311076, 0.00376161, 0.00253029, 0.00206191,\n",
       "       0.00205278, 0.00246933, 0.0021158 , 0.0019167 , 0.00225856,\n",
       "       0.00220175, 0.00235363, 0.00310439, 0.0020782 , 0.00155134,\n",
       "       0.00151111, 0.00180946, 0.00141526, 0.00124957, 0.00146357,\n",
       "       0.0013954 , 0.00148394, 0.00194555, 0.00158206, 0.00129338,\n",
       "       0.00148593, 0.00131375, 0.00137119, 0.00175811, 0.00165634,\n",
       "       0.00160044, 0.00185224, 0.00257438, 0.00167529, 0.00118368,\n",
       "       0.00113585, 0.00135576, 0.00098913, 0.00085454, 0.00099563,\n",
       "       0.00093056, 0.0009849 , 0.00128408, 0.00096595, 0.00077289,\n",
       "       0.00088288, 0.00076216, 0.00079048, 0.00100575, 0.00092683,\n",
       "       0.00089159, 0.00102519, 0.00141394, 0.0010992 , 0.00083817,\n",
       "       0.00094468, 0.00076896, 0.00078459, 0.00097797, 0.00084688,\n",
       "       0.00080403, 0.00090653, 0.00122058, 0.00112224, 0.00101556,\n",
       "       0.00105958, 0.00128275, 0.00182922, 0.00256794, 0.00168142,\n",
       "       0.00152212, 0.00150379, 0.00155895, 0.00189063, 0.00122933,\n",
       "       0.00098331, 0.00094521, 0.0009748 , 0.00118099, 0.00098838,\n",
       "       0.00086356, 0.00087339, 0.001054  , 0.00095838, 0.00088149,\n",
       "       0.00104234, 0.00102894, 0.00110308, 0.00145974, 0.00091963,\n",
       "       0.00066712, 0.00062556, 0.00064202, 0.00077707, 0.00058547,\n",
       "       0.00049591, 0.00049813, 0.0006003 , 0.00053225, 0.00048646,\n",
       "       0.0005744 , 0.0005641 , 0.00060404, 0.00079827, 0.00062195,\n",
       "       0.00048718, 0.00048042, 0.00057676, 0.00047552, 0.00042628,\n",
       "       0.00050108, 0.00048415, 0.00051648, 0.00067961, 0.00057942,\n",
       "       0.00047945, 0.00055256, 0.00049484, 0.00051819, 0.00066708,\n",
       "       0.00063555, 0.00061546, 0.00071458, 0.00099692, 0.00129252,\n",
       "       0.00080697, 0.00071883, 0.00070371, 0.00070597, 0.00073395,\n",
       "       0.0008906 , 0.00053072, 0.00040913, 0.00038751, 0.00038632,\n",
       "       0.00040116, 0.00048667, 0.00039234, 0.00033728, 0.00032959,\n",
       "       0.00034098, 0.00041336, 0.00036815, 0.00032701, 0.0003319 ,\n",
       "       0.00040083, 0.00036912, 0.00034056, 0.00040299, 0.00039881,\n",
       "       0.00042778, 0.00056647, 0.00060902, 0.00033276, 0.00028253,\n",
       "       0.00027346, 0.00027216, 0.00027387, 0.00028489, 0.00034573,\n",
       "       0.00023643])"
      ]
     },
     "execution_count": 23,
     "metadata": {},
     "output_type": "execute_result"
    }
   ],
   "source": [
    "#e)\n",
    "EstadosObservables= GetStates([0,1],8) #Todos los estados OBSERVABLES POSIBLES\n",
    "NumeroObservables = EstadosObservables.shape[0]\n",
    "ProbabilidadObservables = np.zeros(NumeroObservables)\n",
    "\n",
    "for j in range(NumeroObservables):\n",
    "  dim = Ocultos.shape[0] #Todos los estados observables de 3 tienen los mismos estados ocultos posibles\n",
    "  P = np.zeros(dim)\n",
    "  for i in range(dim):\n",
    "    P[i] = GetProb(T,E,EstadosObservables[j],Ocultos[i],priori)\n",
    "\n",
    "  ProbabilidadObservables[j] = np.sum(P) #La suma de las probabilidades de todos los estados ocultos es la probabilidad del estado observable\n",
    "ProbabilidadObservables"
   ]
  },
  {
   "cell_type": "code",
   "execution_count": 24,
   "metadata": {},
   "outputs": [
    {
     "data": {
      "text/plain": [
       "Text(0.5, 1.0, 'Probabilidad de cada secuencia observable')"
      ]
     },
     "execution_count": 24,
     "metadata": {},
     "output_type": "execute_result"
    },
    {
     "data": {
      "image/png": "[encoded data removed]",
      "text/plain": [
       "<Figure size 640x480 with 1 Axes>"
      ]
     },
     "metadata": {},
     "output_type": "display_data"
    }
   ],
   "source": [
    "plt.plot(range(NumeroObservables), ProbabilidadObservables, color=\"k\")\n",
    "plt.title(\"Probabilidad de cada secuencia observable\")"
   ]
  },
  {
   "cell_type": "code",
   "execution_count": 25,
   "metadata": {},
   "outputs": [
    {
     "name": "stdout",
     "output_type": "stream",
     "text": [
      "La suma de probabilidad de todos los estados observables es 1.0000000000000007\n"
     ]
    }
   ],
   "source": [
    "#f)\n",
    "print(f\"La suma de probabilidad de todos los estados observables es {np.sum(ProbabilidadObservables)}\")"
   ]
  },
  {
   "cell_type": "code",
   "execution_count": 26,
   "metadata": {},
   "outputs": [],
   "source": [
    "#g) Depende de sobre que resultado estamos hablando. Para f), no importa la probabilidad a priori, la suma de prob\n",
    "# de todos los estados observables SIEMPRE es 1, ya que el modelo de Markov oculto es siempre bien definido.\n",
    "# sin embargo, las respuestas de los otros incisos si cambia, ya que la probabilidad a Priori cambia la probabilidad\n",
    "# de cada secuencia oculta asociada a cada secuencia observable. Por ejemplo, con una probabilidad a priori 0.5-0.5\n",
    "# la secuencia oculta asociada a b) más probable es todas J. Y así cambia cada secuencia observable. Por lo tanto,\n",
    "# las gráficas cambian y los resultados de los otros puntos también."
   ]
  },
  {
   "cell_type": "code",
   "execution_count": 27,
   "metadata": {},
   "outputs": [],
   "source": [
    "#h) Dado que es un modelo oculto de Markov, el modelo de aprendizaje automático más robusto sería uno basado en\n",
    "# el algoritmo de Baum-Welch. \n",
    "#PASO 1: Definiría mi modelo oculto de Markov como en el problema. Es decir, los estados ocultos B y J,\n",
    "#        los estados observables C y S, la probabilidad a priori de cada estado oculto y UN GUESS de las P\n",
    "#        en las matrices de emisión y transición.\n",
    "#PASO 2 (Expectación): Estimaría las probabilidades de cada secuencia oculta en base al modelo definido en el paso 1\n",
    "#                      mediante el algoritmo de retroceso y hacia adelante. Estos consisten en lo siguiente:\n",
    "#           RETROCESO: estimo las probabilidades de las secuencias OBSERVABLES FUTURAS dado el estado actual\n",
    "#           ADELANTE: la probabilidad de ver los estados observables en el presente y estar en el estado actual.\n",
    "#                     Este se basaría en un proceso recursivo\n",
    "#PASO 3 (Maximización): con las probabilidades sacadas en el paso 2, actualizo las matrices de E y T:\n",
    "#             Matriz T: Se actualiza Tij utilizando la probabilidad CONJUNTA de estar en el estado i \n",
    "#                       en el tiempo t y de hacer la transición al estado j en el tiempo t+1 usando\n",
    "#                       los teoremas de probabilidad aprendidos en clase.\n",
    "#             Matriz E: Se actualiza Eij sumando la probabilidad de estar en el estado i y de haber observado k.\n",
    "#PASO 4: Como con todos los procesos de optimización, se realiza este proceso varias veces hasta que los parametros \n",
    "#        en E y T convergan o se alcance un numero maximo de iteraciones. Lógicamente, las probabilidades en el paso 1\n",
    "#        para E y T son las calculadas en la iteración anterior.\n",
    "#Así se pueden estimar las entradas de las matrices E y T. Es un modelo de aprendizaje porque 1) no es supervisado\n",
    "# y 2) el algoritmo aprende que los parametros que estima son correctos si tiende a converger."
   ]
  }
 ],
 "metadata": {
  "kernelspec": {
   "display_name": "Python 3",
   "language": "python",
   "name": "python3"
  },
  "language_info": {
   "codemirror_mode": {
    "name": "ipython",
    "version": 3
   },
   "file_extension": ".py",
   "mimetype": "text/x-python",
   "name": "python",
   "nbconvert_exporter": "python",
   "pygments_lexer": "ipython3",
   "version": "3.12.7"
  }
 },
 "nbformat": 4,
 "nbformat_minor": 2
}
