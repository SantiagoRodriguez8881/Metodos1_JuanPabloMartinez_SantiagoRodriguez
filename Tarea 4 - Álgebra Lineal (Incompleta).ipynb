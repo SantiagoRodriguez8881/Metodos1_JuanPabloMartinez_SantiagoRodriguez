{
 "cells": [
  {
   "cell_type": "code",
   "execution_count": 31,
   "metadata": {},
   "outputs": [],
   "source": [
    "#TAREA 4 - ÁLGEBRA LINEAL\n",
    "import numpy as np"
   ]
  },
  {
   "cell_type": "code",
   "execution_count": 32,
   "metadata": {},
   "outputs": [],
   "source": [
    "#Ejercicio 3\n",
    "class SistemasLineales:\n",
    "    def __init__(self,A,b):\n",
    "        self.A = A\n",
    "        self.b = b\n",
    "\n",
    "class Jacobi(SistemasLineales):\n",
    "    def __init__(self,A,b,x):\n",
    "        SistemasLineales.__init__(self,A,b)\n",
    "        self.x = x\n",
    "    def Resolver(self):\n",
    "        x0 = np.copy(self.x)\n",
    "        for it in range(0,1000):\n",
    "            x_nuevo = np.copy(x0)\n",
    "            for i in range(self.A.shape[0]):\n",
    "                Suma = 0.\n",
    "                for j in range(self.A.shape[1]):\n",
    "                    if i != j:\n",
    "                        Suma += self.A[i,j]*x0[j]\n",
    "                        x_nuevo[i] = (self.b[i] - Suma)/self.A[i,i]\n",
    "            if np.linalg.norm(np.dot(self.A,x_nuevo)-self.b) < 1e-16:\n",
    "                break\n",
    "            x0 = np.copy(x_nuevo)\n",
    "        return x0, it\n",
    "\n",
    "class GaussSeidel(SistemasLineales):\n",
    "    def __init__(self,A,b,x):\n",
    "        SistemasLineales.__init__(self,A,b)\n",
    "        self.x = x\n",
    "    def Resolver(self):\n",
    "        x0 = np.copy(self.x)\n",
    "        for it in range(0,1000):\n",
    "            x_nuevo = np.copy(x0)\n",
    "            for i in range(self.A.shape[0]):\n",
    "                Suma = 0.\n",
    "                for j in range(self.A.shape[1]):\n",
    "                    if i != j:\n",
    "                        Suma += self.A[i,j]*x_nuevo[j]\n",
    "                        x_nuevo[i] = (self.b[i] - Suma)/self.A[i,i]\n",
    "            if np.linalg.norm(np.dot(self.A,x_nuevo)-self.b) < 1e-16:\n",
    "                break\n",
    "            x0 = np.copy(x_nuevo)\n",
    "        return x0, it\n",
    " \n"
   ]
  },
  {
   "cell_type": "code",
   "execution_count": 33,
   "metadata": {},
   "outputs": [
    {
     "data": {
      "text/plain": [
       "(array([1., 1., 1.]), 25)"
      ]
     },
     "execution_count": 33,
     "metadata": {},
     "output_type": "execute_result"
    }
   ],
   "source": [
    "#Ejercicio 2 (Hacemos el 3 primero para usar el algoritmo y resolver el sistema de la clase)\n",
    "A = np.array([[3.,-1.,-1.],[-1.,3.,1.],[2.,1.,4.]])\n",
    "b = np.array([1.,3.,7.])\n",
    "x0 = np.array([0.,0.,0.])\n",
    "Solucion = GaussSeidel(A,b,x0)\n",
    "Solucion.Resolver()"
   ]
  },
  {
   "cell_type": "code",
   "execution_count": 34,
   "metadata": {},
   "outputs": [
    {
     "data": {
      "text/plain": [
       "array([[ 4., -2.,  1.],\n",
       "       [20., -7., 12.],\n",
       "       [-8., 13., 17.]])"
      ]
     },
     "execution_count": 34,
     "metadata": {},
     "output_type": "execute_result"
    }
   ],
   "source": [
    "#Ejercicio 4\n",
    "def Multiplicador(A,B):\n",
    "  # Nueva matriz\n",
    "  C = np.zeros((A.shape[0],B.shape[1]))\n",
    "  if A.shape[1] != B.shape[0]:\n",
    "    return \"Las matrices no son compatibles\"\n",
    "  else:\n",
    "    for i in range(A.shape[1]):\n",
    "      for j in range(B.shape[0]):\n",
    "        # Producto interno entre filas y columnas\n",
    "        C[i,j] = np.dot(A[i,:],B[:,j])\n",
    "  return C\n",
    "# Definamos nuestras matrices:\n",
    "A = np.array([[1.,0.,0.],[5.,1.,0.],[-2.,3.,1.]])\n",
    "B = np.array([[4.,-2.,1.],[0.,3.,7.],[0.,0.,-2.]])\n",
    "\n",
    "Multiplicador(A,B)"
   ]
  },
  {
   "cell_type": "code",
   "execution_count": 35,
   "metadata": {},
   "outputs": [
    {
     "data": {
      "text/plain": [
       "(array([[ 1.,  0.,  0.],\n",
       "        [ 5.,  1.,  0.],\n",
       "        [-2.,  3.,  1.]]),\n",
       " array([[ 4., -2.,  1.],\n",
       "        [ 0.,  3.,  7.],\n",
       "        [ 0.,  0., -2.]]))"
      ]
     },
     "execution_count": 35,
     "metadata": {},
     "output_type": "execute_result"
    }
   ],
   "source": [
    "# Ejercicio 8:\n",
    "def Descomp(A):\n",
    "  U = A\n",
    "  L = np.zeros_like(A)\n",
    "  for i in range(A.shape[0]):\n",
    "    L[i,i] = 1\n",
    "  for i in range(len(A[0])):\n",
    "    for j in range(i+1,len(A[0])): # Paso para encontrar L y U\n",
    "      a = A[j,i]/A[i,i]\n",
    "      L[j,i] = a\n",
    "      U[j,:] -= a*A[i,:]\n",
    "  return L,U\n",
    "A_LU = np.array([[4.,-2.,1.],[20.,-7.,12.],[-8.,13.,17.]])\n",
    "Descomp(A_LU)"
   ]
  },
  {
   "cell_type": "code",
   "execution_count": 36,
   "metadata": {},
   "outputs": [],
   "source": [
    "#Ejercicio 10\n",
    "#a)\n",
    "def ValoresPropios(A):\n",
    "    V = np.eye(A.shape[0])\n",
    "    for it in range(1000):\n",
    "        Mayor = 0\n",
    "        posicion_mayor = (0,0)\n",
    "        for i in range(A.shape[0]):\n",
    "            for j in range(A.shape[1]):\n",
    "                if i!=j and np.abs(A[i,j])>Mayor:\n",
    "                    Mayor = np.abs(A[i,j])\n",
    "                    posicion_mayor = (i,j)\n",
    "        if Mayor < 1e-16:\n",
    "            break\n",
    "        i,j = posicion_mayor\n",
    "        if A[i,i] == A[j,j]:\n",
    "            theta = np.pi/4\n",
    "        else:\n",
    "            theta = 0.5*np.arctan(2*A[i,j]/(A[i,i]-A[j,j]))\n",
    "        R = np.eye(A.shape[0])\n",
    "        R[i,i] = np.cos(theta)\n",
    "        R[i,j] = -np.sin(theta)\n",
    "        R[j,i] = np.sin(theta)\n",
    "        R[j,j] = np.cos(theta)\n",
    "        A = R.T@A@R\n",
    "        V = V@R\n",
    "    valores_propios = np.diagonal(A)\n",
    "    return valores_propios, V\n"
   ]
  },
  {
   "cell_type": "code",
   "execution_count": 37,
   "metadata": {},
   "outputs": [
    {
     "name": "stdout",
     "output_type": "stream",
     "text": [
      "Los valores propios son [3.39729507 1.70759841 6.89510652] y la matriz de vectores propios es:\n"
     ]
    },
    {
     "data": {
      "text/plain": [
       "array([[ 0.88573564, -0.17059871,  0.43170413],\n",
       "       [-0.07589338,  0.86427949,  0.49725362],\n",
       "       [-0.45794385, -0.47319874,  0.75257583]])"
      ]
     },
     "execution_count": 37,
     "metadata": {},
     "output_type": "execute_result"
    }
   ],
   "source": [
    "A = np.array([[4.,1.,1.],[1.,3.,2.],[1.,2.,5.]])\n",
    "print(f\"Los valores propios son {ValoresPropios(A)[0]} y la matriz de vectores propios es:\")\n",
    "ValoresPropios(A)[1]"
   ]
  },
  {
   "cell_type": "code",
   "execution_count": 38,
   "metadata": {},
   "outputs": [
    {
     "name": "stdout",
     "output_type": "stream",
     "text": [
      "Los valores propios con el paquete son [6.89510652 3.39729507 1.70759841] y la matriz de vectores propios es:\n"
     ]
    },
    {
     "data": {
      "text/plain": [
       "array([[ 0.43170413,  0.88573564,  0.17059871],\n",
       "       [ 0.49725362, -0.07589338, -0.86427949],\n",
       "       [ 0.75257583, -0.45794385,  0.47319874]])"
      ]
     },
     "execution_count": 38,
     "metadata": {},
     "output_type": "execute_result"
    }
   ],
   "source": [
    "#b) \n",
    "print(f\"Los valores propios con el paquete son {np.linalg.eig(A)[0]} y la matriz de vectores propios es:\")\n",
    "np.linalg.eig(A)[1]\n",
    "#Dan los mismos eigenvalores y los mismos eigenvectores"
   ]
  },
  {
   "cell_type": "code",
   "execution_count": 39,
   "metadata": {},
   "outputs": [
    {
     "name": "stdout",
     "output_type": "stream",
     "text": [
      "La solución del primer sistema es [1.77245385 1.77245385]\n",
      "La solución del segundo sistema es [ 0.49814468 -0.1996059  -0.52882598]\n"
     ]
    }
   ],
   "source": [
    "#Ejercicio 12\n",
    "F1 = (lambda x1, x2: np.log((x1**2 + x2**2)/(2*np.pi)) - np.sin(x1*x2),  \n",
    "      lambda x1, x2: np.exp(x1-x2) + np.cos(x1*x2))\n",
    "x0 = np.array([2.,2.])\n",
    "\n",
    "F2 = (lambda x1, x2, x3: 6*x1 - 2*np.cos(x2*x3) - 1, \n",
    "      lambda x1, x2, x3: 9*x2 + np.sqrt(x1**2 + np.sin(x3) + 1.06) + 0.9, \n",
    "      lambda x1, x2, x3: 60*x3 + 3*np.exp(-x1*x2) + 10*np.pi - 3)\n",
    "\n",
    "x1 = np.array([0.,0.,0.])\n",
    "\n",
    "def GetJacobian(F,r,h=1e-6):\n",
    "    n = len(r)\n",
    "    J = np.zeros((n, n))\n",
    "    F_actual = np.zeros(n)\n",
    "    for i in range(n):\n",
    "        F_actual[i] = F[i](*r)\n",
    "    for i in range(n):\n",
    "        for j in range(n):\n",
    "            r_superior = r.copy()\n",
    "            r_inferior = r.copy()\n",
    "            \n",
    "            r_superior[j] += h\n",
    "            r_inferior[j] -= h\n",
    "\n",
    "            F_superior = np.zeros(n)\n",
    "            F_inferior = np.zeros(n)\n",
    "            for k in range(n):\n",
    "                F_superior[k] = F[k](*r_superior)\n",
    "                F_inferior[k] = F[k](*r_inferior)\n",
    "\n",
    "            J[i, j] = (F_superior[i] - F_inferior[i]) / (2 * h)\n",
    "    return J\n",
    "\n",
    "\n",
    "def GetNewtonMethod(F,J,x0,itmax=1000,precision=1e-8):\n",
    "    error = 1\n",
    "    it = 0\n",
    "    x1 = x0.copy()\n",
    "    while error > precision and it < itmax:\n",
    "        try:\n",
    "            F_actual = np.zeros(len(F))\n",
    "            for i in range(len(F)):\n",
    "                F_actual[i] = F[i](*x0)\n",
    "            x1 = x0 - np.linalg.inv(J(F,x0))@F_actual\n",
    "            error = np.linalg.norm(x1-x0)\n",
    "        except np.linalg.LinAlgError:\n",
    "            return None\n",
    "        x0 = x1\n",
    "        it += 1\n",
    "    if it == itmax:\n",
    "        return False\n",
    "    else:\n",
    "        return x0\n",
    "print(f\"La solución del primer sistema es {GetNewtonMethod(F1,GetJacobian,x0)}\")\n",
    "print(f\"La solución del segundo sistema es {GetNewtonMethod(F2,GetJacobian,x1)}\")"
   ]
  },
  {
   "cell_type": "code",
   "execution_count": 40,
   "metadata": {},
   "outputs": [
    {
     "name": "stdout",
     "output_type": "stream",
     "text": [
      "La solución del primer sistema es [1.77245384 1.77245386]\n",
      "La solución del segundo sistema es [ 0.49814468 -0.1996059  -0.52882598]\n"
     ]
    }
   ],
   "source": [
    "#CON DESCENSO DEL GRADIENTE\n",
    "def GetF(G,r):\n",
    "  n = r.shape[0]\n",
    "  v = np.zeros(n)\n",
    "  for i in range(n):\n",
    "    v[i] = G[i](*r)\n",
    "  return v\n",
    "def Metric(G,r):\n",
    "  return 0.5*np.linalg.norm(GetF(G,r))**2\n",
    "def DescensoGradiente(G,r,lr,epochs=int(1e4),error=1e-16):\n",
    "  metric = 1\n",
    "  it = 0\n",
    "  R = np.array([r])\n",
    "  while metric > error and it < epochs:\n",
    "    J = GetJacobian(G,r).T\n",
    "    Vector = GetF(G,r)\n",
    "    r = r - lr*np.dot(J,Vector)\n",
    "    R = np.vstack((R,r))\n",
    "    metric = Metric(G,r)\n",
    "    it += 1\n",
    "  return r\n",
    "print(f\"La solución del primer sistema es {DescensoGradiente(F1,x0,1e-2)}\")\n",
    "print(f\"La solución del segundo sistema es {DescensoGradiente(F2,x1,5*1e-4)}\")"
   ]
  },
  {
   "cell_type": "code",
   "execution_count": 41,
   "metadata": {},
   "outputs": [],
   "source": [
    "#Ejercicio 13\n",
    "#a)\n",
    "def GetJacobianCuatro(F,r,h):\n",
    "    m = len(F)\n",
    "    n = len(r)\n",
    "    J = np.zeros((m, n))\n",
    "    for i in range(m):\n",
    "        for j in range(n):\n",
    "            r_1 = r.copy()\n",
    "            r_2 = r.copy()\n",
    "            r_3 = r.copy()\n",
    "            r_4 = r.copy()\n",
    "            \n",
    "            r_1[j] += 2*h\n",
    "            r_2[j] += h\n",
    "            r_3[j] -= h\n",
    "            r_4[j] -= 2*h\n",
    "\n",
    "            F_1 = F[i](*r_1) \n",
    "            F_2 = F[i](*r_2)  \n",
    "            F_3 = F[i](*r_3)  \n",
    "            F_4 = F[i](*r_4)\n",
    "\n",
    "            J[i, j] = (-F_1 + 8*F_2 - 8*F_3 + F_4) / (12 * h) #DERIVADA CENTRAL DE APROXIMACION DE ORDEN 4\n",
    "    return J"
   ]
  },
  {
   "cell_type": "code",
   "execution_count": 42,
   "metadata": {},
   "outputs": [
    {
     "data": {
      "text/plain": [
       "array([[ 6.        ,  0.24740396,  0.24740396],\n",
       "       [ 0.37377753,  9.        ,  0.32802064],\n",
       "       [-1.16820117, -1.16820117, 60.        ]])"
      ]
     },
     "execution_count": 42,
     "metadata": {},
     "output_type": "execute_result"
    }
   ],
   "source": [
    "#b)\n",
    "GetJacobianCuatro(F2,np.array([0.5,0.5,0.5]),0.01)"
   ]
  },
  {
   "cell_type": "code",
   "execution_count": 43,
   "metadata": {},
   "outputs": [
    {
     "data": {
      "text/plain": [
       "array([[ 6.        ,  0.24740293,  0.24740293],\n",
       "       [ 0.37376854,  9.        ,  0.32801836],\n",
       "       [-1.16820604, -1.16820604, 60.        ]])"
      ]
     },
     "execution_count": 43,
     "metadata": {},
     "output_type": "execute_result"
    }
   ],
   "source": [
    "#c)\n",
    "GetJacobian(F2,np.array([0.5,0.5,0.5]),0.01)"
   ]
  },
  {
   "cell_type": "code",
   "execution_count": 44,
   "metadata": {},
   "outputs": [
    {
     "data": {
      "text/plain": [
       "[<matplotlib.lines.Line2D at 0x2b4fcd10920>]"
      ]
     },
     "execution_count": 44,
     "metadata": {},
     "output_type": "execute_result"
    },
    {
     "data": {
      "image/png": "[encoded data removed]",
      "text/plain": [
       "<Figure size 640x480 with 1 Axes>"
      ]
     },
     "metadata": {},
     "output_type": "display_data"
    }
   ],
   "source": [
    "import matplotlib.pyplot as plt\n",
    "h_values = np.linspace(0.00001,0.0001,10000)\n",
    "errors = []\n",
    "for h in h_values:\n",
    "    J_cuatro = GetJacobianCuatro(F2, np.array([0.5,0.5,0.5]), h)\n",
    "    J_dos = GetJacobian(F2, np.array([0.5,0.5,0.5]), h)\n",
    "    error = np.linalg.norm(J_cuatro - J_dos)\n",
    "    errors.append(error)\n",
    "plt.plot(h_values,errors)"
   ]
  },
  {
   "cell_type": "code",
   "execution_count": 45,
   "metadata": {},
   "outputs": [],
   "source": [
    "#Con base a la gráfica podemos intuir que ambas tienen la misma precisión en un valor de h algo menor\n",
    "#a h=0.0002, ya que más o menos desde h=0.0001 la gráfica empieza a tener mucho ruido, indicando que\n",
    "#el programa no logra distinguir bien entre ambas medidas de precisión de O(h2) y O(h4) en esta región."
   ]
  },
  {
   "cell_type": "code",
   "execution_count": 46,
   "metadata": {},
   "outputs": [
    {
     "name": "stdout",
     "output_type": "stream",
     "text": [
      "El algebra de Lie de SO3 para i=1,j=1 se cumple\n",
      "El algebra de Lie de SO3 para i=1,j=2 se cumple\n",
      "El algebra de Lie de SO3 para i=1,j=3 se cumple\n",
      "El algebra de Lie de SO3 para i=2,j=1 se cumple\n",
      "El algebra de Lie de SO3 para i=2,j=2 se cumple\n",
      "El algebra de Lie de SO3 para i=2,j=3 se cumple\n",
      "El algebra de Lie de SO3 para i=3,j=1 se cumple\n",
      "El algebra de Lie de SO3 para i=3,j=2 se cumple\n",
      "El algebra de Lie de SO3 para i=3,j=3 se cumple\n"
     ]
    }
   ],
   "source": [
    "#Ejercicio 14\n",
    "import sympy as sym\n",
    "Jx = sym.Matrix([[0,0,0],[0,0,-1],[0,1,0]])\n",
    "Jy = sym.Matrix([[0,0,1],[0,0,0],[-1,0,0]])\n",
    "Jz = sym.Matrix([[0,-1,0],[1,0,0],[0,0,0]])\n",
    "\n",
    "def Conmutador(i,j):\n",
    "    if i == 1:\n",
    "        Ji = Jx\n",
    "    if i == 2:\n",
    "        Ji = Jy\n",
    "    if i == 3:\n",
    "        Ji = Jz\n",
    "    if j == 1:\n",
    "        Jj = Jx\n",
    "    if j == 2:\n",
    "        Jj = Jy\n",
    "    if j == 3:\n",
    "        Jj = Jz\n",
    "    return Ji*Jj - Jj*Ji\n",
    "    \n",
    "\n",
    "def Levi_Civita(i,j,k):\n",
    "    if (i,j,k) in [(1,2,3),(2,3,1),(3,1,2)]:\n",
    "        return 1\n",
    "    elif (i,j,k) in [(3,2,1),(1,3,2),(2,1,3)]:\n",
    "        return -1\n",
    "    else:\n",
    "        return 0\n",
    "\n",
    "def Algebra_Lie(i,j):\n",
    "    k_posibles = {1, 2, 3} - {i, j} \n",
    "    k = k_posibles.pop()\n",
    "    epsilon = Levi_Civita(i,j,k)\n",
    "    if k==1:\n",
    "        Jk=Jx\n",
    "    elif k == 2:\n",
    "        Jk=Jy\n",
    "    else:\n",
    "        Jk=Jz\n",
    "    return epsilon*Jk\n",
    "\n",
    "for i in range(1,4):\n",
    "    for j in range(1,4):\n",
    "        a=Algebra_Lie(i,j)\n",
    "        c=Conmutador(i,j)\n",
    "        if a == c:\n",
    "            print(f\"El algebra de Lie de SO3 para i={i},j={j} se cumple\")\n",
    "        else:\n",
    "            print(f\"El algebra de Lie de SO3 para i={i},j={j} no se cumple\")\n"
   ]
  }
 ],
 "metadata": {
  "kernelspec": {
   "display_name": "Python 3",
   "language": "python",
   "name": "python3"
  },
  "language_info": {
   "codemirror_mode": {
    "name": "ipython",
    "version": 3
   },
   "file_extension": ".py",
   "mimetype": "text/x-python",
   "name": "python",
   "nbconvert_exporter": "python",
   "pygments_lexer": "ipython3",
   "version": "3.12.7"
  }
 },
 "nbformat": 4,
 "nbformat_minor": 2
}
