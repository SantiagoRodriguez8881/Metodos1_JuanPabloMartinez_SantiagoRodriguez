{
  "nbformat": 4,
  "nbformat_minor": 0,
  "metadata": {
    "colab": {
      "provenance": [],
      "authorship_tag": "ABX9TyNDbVGgLvP6JmOH0T7rBztT",
      "include_colab_link": true
    },
    "kernelspec": {
      "name": "python3",
      "display_name": "Python 3"
    },
    "language_info": {
      "name": "python"
    }
  },
  "cells": [
    {
      "cell_type": "markdown",
      "metadata": {
        "id": "view-in-github",
        "colab_type": "text"
      },
      "source": [
        "<a href=\"https://colab.research.google.com/github/SantiagoRodriguez8881/Metodos1_JuanPabloMartinez_SantiagoRodriguez/blob/La-ramita-del-snat/Markov_1%2C2.ipynb\" target=\"_parent\"><img src=\"https://colab.research.google.com/assets/colab-badge.svg\" alt=\"Open In Colab\"/></a>"
      ]
    },
    {
      "cell_type": "code",
      "execution_count": 24,
      "metadata": {
        "colab": {
          "base_uri": "https://localhost:8080/"
        },
        "id": "zrncZnjEcRuv",
        "outputId": "830cb988-b037-4cc5-a15f-92d676848444"
      },
      "outputs": [
        {
          "output_type": "stream",
          "name": "stdout",
          "text": [
            "Probabilidad de que las dos estaciones esten ocupadas al tiempo es 0.0 %\n",
            "Probabilidad de que almenos una de las dos estaciones esté ocupada es 0.0 %\n",
            "Probabilidad de que produccion esté vacia es 100.0 %\n"
          ]
        }
      ],
      "source": [
        "#  CADENAS DE MARKOV\n",
        "#  2 )) Cadena de produccion\n",
        "\n",
        "#  (a) Vamos a describir las variables observables del problema:\n",
        "\n",
        "#  X1: Esta es la primera variable, cuando el producto está en produccion, es variable ya que el producto\n",
        "#  puede pasar a empaquetado o quedarse en produccion.\n",
        "\n",
        "#  X2: Esta es la segunda variable, cuando el producto está en empaquetado, es variable ya que el producto\n",
        "#  puede pasar al mercado o quedarse en empaquetado.\n",
        "\n",
        "#  (b) Vamos a definir el conjunto de estados.\n",
        "\n",
        "#  S = { S1, S2, S3}\n",
        "\n",
        "#  S1: Estado en el que la estacion de produccion esta ocupada\n",
        "#  S2: Estado en el que la estacion de empaquetado esta ocupada\n",
        "#  S3: Estado en el que ninguna estacion está ocupada\n",
        "\n",
        "\n",
        "#  (c) Vamos a construir la matriz de transicion del proceso.\n",
        "\n",
        "import numpy as np\n",
        "\n",
        "M = np.array([[0.10, 0.9, 0],\n",
        "              [0, 0.05, 0.95],\n",
        "              [0, 0, 1]])\n",
        "\n",
        "# (d) Vamos a hallar el estado estable:\n",
        "\n",
        "M2 = np.linalg.matrix_power(M,100)\n",
        "# Esta matriz representa como se comportan las probabilidades en el estado estable, es decir cuando las probabilidades ya no cambian con el tiempo.\n",
        "\n",
        "# (e): Determinar la probabilidad de que ambas estaciones esten ocupadas al mismo tiempo significa la interseccion entre el estado S1 y el estado S2:\n",
        "Pinterseccion = M2[0][0] * M2[1][1]\n",
        "print(\"Probabilidad de que las dos estaciones esten ocupadas al tiempo es\", round(Pinterseccion*100, 5) , \"%\")\n",
        "\n",
        "# (f): Determinar la probabilidad de que almenos una de las dos estaciones esté ocupada significa hallar la probabilidad de la union entre S1 y S2:\n",
        "Punion = M2[0][0] + M2[1][1]\n",
        "print(\"Probabilidad de que almenos una de las dos estaciones esté ocupada es\", round(Punion*100,5) , \"%\")\n",
        "\n",
        "# (g): Determinar la probabilidad de que la estacion de produccion esté vacia es que ocurran los demas estados:\n",
        "Pvacia = 1 - M2[0][0]\n",
        "print(\"Probabilidad de que produccion esté vacia es\", round(Pvacia*100,5), \"%\")\n",
        "\n",
        "# El hecho de que multipliquemos la matriz por 20 nos da una aproximacion de lo que ocurre en el estado estable.\n",
        "\n",
        "# La probabilidad de que en el estado estable alguna de las estaciones, o las dos al tiempo, esten ocupadas es del 0%, lo que nos dice realmente que el sistema tiende\n",
        "# a que todos los paquetes sean entregados al mercado.\n"
      ]
    },
    {
      "cell_type": "code",
      "source": [
        "# 3 ))\n",
        "\n",
        "#(a) Vamos a describir las variables observables del problema:\n",
        "\n",
        "# X1: El producto está en la estación de producción o ha avanzado a la estación de empaque.\n",
        "# X2: El producto está en la estación de empaque o ha sido enviado al mercado.\n",
        "# X3: El producto ha acabado su circulacion o fue devuelto a produccion.\n",
        "\n",
        "#(b) Vamos a definir el conjunto de estados.\n",
        "\n",
        "# S = { S1, S2, S3}\n",
        "\n",
        "# S1: Estado en el que el producto está en la estacion de producción.\n",
        "# S2: Estado en el que el producto está en la estacion de empaquetado.\n",
        "# S3: Estado en el que el producto es entregado.\n",
        "\n",
        "#  (c) Vamos a construir la matriz de transicion del proceso.\n",
        "M = np.array([[0.10, 0.90, 0],\n",
        "              [0, 0.05, 0.95],\n",
        "              [0.02, 0, 0.98]])\n",
        "\n",
        "# (d) Vamos a hallar el estado estable:\n",
        "\n",
        "M3 = np.linalg.matrix_power(M,102)\n",
        "\n",
        "# Multiplicar la matriz por si misma un gran numero de veces nos da informacion sobre el estado estable, entre mas la multipliquemos las probabilidades se van a ir estabilizando.\n",
        "# De estos resultados podemos decir que en el estado estable es muy improbable que el producto se vuelva a recibir en produccion, el estado mas probable es que el producto no vuelva del mercado.\n",
        "\n",
        "# (e): Determinar la probabilidad de que ambas estaciones esten ocupadas al mismo tiempo significa la interseccion entre el estado S1 y el estado S2:\n",
        "Pinterseccion = M3[0][0] * M3[1][1]\n",
        "print(\"Probabilidad de que las dos estaciones esten ocupadas al tiempo es\", round(Pinterseccion*100,5) ,\"%\")\n",
        "\n",
        "# (f): Determinar la probabilidad de que almenos una de las dos estaciones esté ocupada significa hallar la probabilidad de la union entre S1 y S2:\n",
        "Punion = M3[0][0] + M3[1][1]\n",
        "print(\"Probabilidad de que almenos una de las dos estaciones esté ocupada es\", round(Punion*100,5) ,\"%\")\n",
        "\n",
        "# (g): Determinar la probabilidad de que la estacion de produccion esté vacia es que ocurran los demas estados:\n",
        "Pvacia = 1 - M3[0][0]\n",
        "print(\"Probabilidad de que produccion esté vacia es\", round(Pvacia*100,5),\"%\")"
      ],
      "metadata": {
        "colab": {
          "base_uri": "https://localhost:8080/"
        },
        "id": "K4Un4EwxVB3q",
        "outputId": "08c2ccbd-b5d6-44ba-d21b-42fb74ece7b7"
      },
      "execution_count": 25,
      "outputs": [
        {
          "output_type": "stream",
          "name": "stdout",
          "text": [
            "Probabilidad de que las dos estaciones esten ocupadas al tiempo es 0.04298 %\n",
            "Probabilidad de que almenos una de las dos estaciones esté ocupada es 4.14798 %\n",
            "Probabilidad de que produccion esté vacia es 97.86996 %\n"
          ]
        }
      ]
    }
  ]
}