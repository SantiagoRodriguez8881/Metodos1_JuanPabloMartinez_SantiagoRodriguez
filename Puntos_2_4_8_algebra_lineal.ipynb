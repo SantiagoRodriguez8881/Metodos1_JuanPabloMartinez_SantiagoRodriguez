{
  "nbformat": 4,
  "nbformat_minor": 0,
  "metadata": {
    "colab": {
      "provenance": [],
      "authorship_tag": "ABX9TyOkL7zyYkG70lry3xMUgqIF",
      "include_colab_link": true
    },
    "kernelspec": {
      "name": "python3",
      "display_name": "Python 3"
    },
    "language_info": {
      "name": "python"
    }
  },
  "cells": [
    {
      "cell_type": "markdown",
      "metadata": {
        "id": "view-in-github",
        "colab_type": "text"
      },
      "source": [
        "<a href=\"https://colab.research.google.com/github/SantiagoRodriguez8881/Metodos1_JuanPabloMartinez_SantiagoRodriguez/blob/La-ramita-del-snat/Puntos_2_4_8_algebra_lineal.ipynb\" target=\"_parent\"><img src=\"https://colab.research.google.com/assets/colab-badge.svg\" alt=\"Open In Colab\"/></a>"
      ]
    },
    {
      "cell_type": "code",
      "execution_count": 1,
      "metadata": {
        "colab": {
          "base_uri": "https://localhost:8080/"
        },
        "id": "wycKIg2ugPXB",
        "outputId": "4072159e-b4e2-406b-ca0f-7308835aec45"
      },
      "outputs": [
        {
          "output_type": "execute_result",
          "data": {
            "text/plain": [
              "(array([1., 1., 1.]), 34)"
            ]
          },
          "metadata": {},
          "execution_count": 1
        }
      ],
      "source": [
        "import numpy as np\n",
        "import math\n",
        "import sympy as sym\n",
        "import matplotlib.pyplot as plt\n",
        "\n",
        "# Ejercicio 2 :\n",
        "\n",
        "# Definamos nuestro sistema:\n",
        "A = np.array([[3.,-1.,-1.],[-1.,3.,1.],[2.,1.,4.]])\n",
        "b = np.array([1.,3.,7.])\n",
        "\n",
        "\n",
        "def Gauss_seidel(A,b,x,tol = 1e-16,Nm = 1000):\n",
        "  x = x.copy()\n",
        "  for it in range(Nm):\n",
        "    x1 = np.copy(x)\n",
        "    Suma = 0.\n",
        "    for i in range(A.shape[0]):\n",
        "      Suma = 0.\n",
        "      for j in range(A.shape[1]):\n",
        "        if i != j:\n",
        "          Suma += A[i,j]*x[j]\n",
        "\n",
        "          x1[i] = (b[i] - Suma)/A[i,i] # Actualizamos la variable para acercarnos a la solucion mas rapido\n",
        "    # Criterio de convergencia\n",
        "    if np.linalg.norm( np.dot(A,x1)-b) < tol:\n",
        "      break\n",
        "\n",
        "    x = np.copy(x1)\n",
        "  return x, it\n",
        "\n",
        "x0 = np.array([0.,0.,0.])\n",
        "\n",
        "Gauss_seidel(A,b,x0)"
      ]
    },
    {
      "cell_type": "code",
      "source": [
        "# Ejercicio 4:\n",
        "\n",
        "def Multiplicador(A,B):\n",
        "  # Nueva matriz\n",
        "\n",
        "  C = np.zeros((A.shape[0],B.shape[1]))\n",
        "  if A.shape[1] != B.shape[0]:\n",
        "    return \"Las matrices no son compatibles\"\n",
        "  else:\n",
        "    for i in range(A.shape[1]):\n",
        "      for j in range(B.shape[0]):\n",
        "\n",
        "        # Producto interno\n",
        "        C[i,j] = np.dot(A[i,:],B[:,j])\n",
        "  return C\n",
        "\n",
        "# Vamos a probar nuestro algoritmo\n",
        "\n",
        "# Definamos nuestras matrices:\n",
        "A1 = np.array([[1.,0.,0.],[5.,1.,0.],[-2.,3.,1.]])\n",
        "B1 = np.array([[4.,-2.,1.],[0.,3.,7.],[0.,0.,-2.]])\n",
        "\n",
        "\n",
        "AA = Multiplicador(A1,B1)\n",
        "Multiplicador(A1,B1)\n",
        "# Funciona :D"
      ],
      "metadata": {
        "colab": {
          "base_uri": "https://localhost:8080/"
        },
        "id": "ZUhQEpimpkIO",
        "outputId": "f346c437-0b4e-4e0e-cb9e-5ea7ee291956"
      },
      "execution_count": 2,
      "outputs": [
        {
          "output_type": "execute_result",
          "data": {
            "text/plain": [
              "array([[ 4., -2.,  1.],\n",
              "       [20., -7., 12.],\n",
              "       [-8., 13., 17.]])"
            ]
          },
          "metadata": {},
          "execution_count": 2
        }
      ]
    },
    {
      "cell_type": "code",
      "source": [
        "# Ejercicio 8:\n",
        "\n",
        "# Descomposicion LU\n",
        "\n",
        "def Descomp(AA):\n",
        "  A = AA.copy()\n",
        "  U = A\n",
        "  L = np.zeros_like(A)\n",
        "  for i in range(A.shape[0]):\n",
        "    L[i,i] = 1\n",
        "  for i in range(len(A[0])):\n",
        "\n",
        "    for j in range(i+1,len(A[0])): # Vamos a encontrar las matrices U y L\n",
        "\n",
        "      a = A[j,i]/A[i,i]\n",
        "      L[j,i] = a\n",
        "      U[j,:] -= a*A[i,:]\n",
        "  return L,U\n",
        "Descomp(AA)\n"
      ],
      "metadata": {
        "colab": {
          "base_uri": "https://localhost:8080/"
        },
        "id": "HbqUSqksZb2J",
        "outputId": "45a3a3b5-ff86-4a81-a678-93a2b08c14dd"
      },
      "execution_count": 3,
      "outputs": [
        {
          "output_type": "execute_result",
          "data": {
            "text/plain": [
              "(array([[ 1.,  0.,  0.],\n",
              "        [ 5.,  1.,  0.],\n",
              "        [-2.,  3.,  1.]]),\n",
              " array([[ 4., -2.,  1.],\n",
              "        [ 0.,  3.,  7.],\n",
              "        [ 0.,  0., -2.]]))"
            ]
          },
          "metadata": {},
          "execution_count": 3
        }
      ]
    }
  ]
}