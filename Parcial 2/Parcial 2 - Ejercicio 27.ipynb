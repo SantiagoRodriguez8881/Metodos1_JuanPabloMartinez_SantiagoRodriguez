{
  "cells": [
    {
      "cell_type": "markdown",
      "metadata": {
        "colab_type": "text",
        "id": "view-in-github"
      },
      "source": [
        "<a href=\"https://colab.research.google.com/github/asegura4488/MetodosComputacionalesI/blob/main/Semana8/SLDescenso.ipynb\" target=\"_parent\"><img src=\"https://colab.research.google.com/assets/colab-badge.svg\" alt=\"Open In Colab\"/></a>"
      ]
    },
    {
      "cell_type": "code",
      "execution_count": 119,
      "metadata": {
        "id": "oKfPN1i1Dt-k"
      },
      "outputs": [],
      "source": [
        "import numpy as np"
      ]
    },
    {
      "cell_type": "code",
      "execution_count": 120,
      "metadata": {
        "id": "bY8g04gtE9wJ"
      },
      "outputs": [],
      "source": [
        "#Ejercicio 27\n",
        "\n",
        "#a)\n",
        "G1=(lambda x0, x1, x2, x3, w0, w1, w2, w3: w0 + w1 + w2 + w3 - 2, \\\n",
        "    lambda x0, x1, x2, x3, w0, w1, w2, w3: w0*x0 + w1*x1 + w2*x2 + w3*x3, \\\n",
        "    lambda x0, x1, x2, x3, w0, w1, w2, w3: w0*x0**2 + w1*x1**2 + w2*x2**2 + w3*x3**2 - 2/3, \\\n",
        "    lambda x0, x1, x2, x3, w0, w1, w2, w3: w0*x0**3 + w1*x1**3 + w2*x2**3 + w3*x3**3, \\\n",
        "    lambda x0, x1, x2, x3, w0, w1, w2, w3: w0*x0**4 + w1*x1**4 + w2*x2**4 + w3*x3**4 - 2/5, \\\n",
        "    lambda x0, x1, x2, x3, w0, w1, w2, w3: w0*x0**5 + w1*x1**5 + w2*x2**5 + w3*x3**5, \\\n",
        "    lambda x0, x1, x2, x3, w0, w1, w2, w3: w0*x0**6 + w1*x1**6 + w2*x2**6 + w3*x3**6 - 2/7, \\\n",
        "    lambda x0, x1, x2, x3, w0, w1, w2, w3: w0*x0**7 + w1*x1**7 + w2*x2**7 + w3*x3**7)\n",
        "    \n",
        "    "
      ]
    },
    {
      "cell_type": "code",
      "execution_count": 121,
      "metadata": {
        "id": "Ucc5BH8DRwqJ"
      },
      "outputs": [],
      "source": [
        "#b)\n",
        "def GetF(G,r):\n",
        "  n = r.shape[0]\n",
        "  v = np.zeros(n)\n",
        "  for i in range(n):\n",
        "    v[i] = G[i](*r)\n",
        "  return v"
      ]
    },
    {
      "cell_type": "code",
      "execution_count": null,
      "metadata": {},
      "outputs": [],
      "source": []
    },
    {
      "cell_type": "code",
      "execution_count": 122,
      "metadata": {
        "id": "LrwO5DrPSzW7"
      },
      "outputs": [],
      "source": [
        "# Creamos la función para la condición de parada en el método\n",
        "def Metric(G,r):\n",
        "  F = 0.5*GetF(G,r).T @ GetF(G,r)\n",
        "  return np.linalg.norm(F)"
      ]
    },
    {
      "cell_type": "code",
      "execution_count": 123,
      "metadata": {
        "id": "mhtcTqU6TpGl"
      },
      "outputs": [],
      "source": [
        "#c)\n",
        "def GetJacobian(f,r,h=1e-3):\n",
        "  n = r.shape[0]\n",
        "  J = np.zeros((n,n))\n",
        "  for i in range(n):\n",
        "    for j in range(n):\n",
        "      rf = r.copy()\n",
        "      rb = r.copy()\n",
        "\n",
        "      rf[j] = rf[j] + h\n",
        "      rb[j] = rb[j] - h\n",
        "\n",
        "      J[i,j] = (f[i](*rf) - f[i](*rb))/(2*h)\n",
        "  return J"
      ]
    },
    {
      "cell_type": "code",
      "execution_count": 124,
      "metadata": {
        "id": "deTyp7BCFFIB"
      },
      "outputs": [],
      "source": [
        "#d)\n",
        "def Minimizer(F,r,lr=0.01,epochs=10000,error=1e-6):\n",
        "  metric = 1\n",
        "  it = 0\n",
        "  r0 = r.copy()\n",
        "  while metric > error and it < epochs:\n",
        "    J = GetJacobian(F,r0)\n",
        "    r1 = r0 - lr*np.dot(J.T, GetF(F,r0))\n",
        "    metric = Metric(F,r0)\n",
        "    if metric < 0.005: #e)\n",
        "      lr = 0.001\n",
        "    r0 = r1\n",
        "    it += 1\n",
        "  return r0"
      ]
    },
    {
      "cell_type": "code",
      "execution_count": 125,
      "metadata": {
        "colab": {
          "base_uri": "https://localhost:8080/",
          "height": 311
        },
        "id": "HdyKWW2SFnpo",
        "outputId": "4d552b4c-f69c-4832-e4fb-6e5cc9afc1c1"
      },
      "outputs": [
        {
          "data": {
            "text/plain": [
              "(array([-0.0621124 , -0.80698762,  0.0644464 ,  0.79337031]),\n",
              " array([0.70163679, 0.49361572, 0.27194043, 0.53273583]))"
            ]
          },
          "execution_count": 125,
          "metadata": {},
          "output_type": "execute_result"
        }
      ],
      "source": [
        "xsol = Minimizer(G1, np.random.uniform(-1.,1.,size=8)) #Semilla aleatoria\n",
        "Roots, Weights = xsol[:4], xsol[4:]\n",
        "Roots, Weights"
      ]
    },
    {
      "cell_type": "code",
      "execution_count": 126,
      "metadata": {
        "colab": {
          "base_uri": "https://localhost:8080/"
        },
        "id": "IvwHeI5HFq5s",
        "outputId": "7fbfa5c7-4c6e-4469-def3-16e1eb1a7b42"
      },
      "outputs": [
        {
          "data": {
            "text/plain": [
              "np.float64(1.6867684517363852)"
            ]
          },
          "execution_count": 126,
          "metadata": {},
          "output_type": "execute_result"
        }
      ],
      "source": [
        "#f)\n",
        "f = lambda x: np.cos(x)\n",
        "Integral = np.sum(Weights*f(Roots))\n",
        "Integral\n",
        "#Efectivamente, tiene dos cifras de precisión."
      ]
    },
    {
      "cell_type": "code",
      "execution_count": 127,
      "metadata": {
        "id": "Yp-haGyzGOgM"
      },
      "outputs": [
        {
          "data": {
            "text/plain": [
              "np.float64(1.6829416886959734)"
            ]
          },
          "execution_count": 127,
          "metadata": {},
          "output_type": "execute_result"
        }
      ],
      "source": [
        "roots, weights = np.polynomial.legendre.leggauss(4)\n",
        "integral = np.sum(weights*f(roots))\n",
        "integral"
      ]
    },
    {
      "cell_type": "code",
      "execution_count": null,
      "metadata": {},
      "outputs": [],
      "source": [
        "#g) Porque la existencia de muchos mínimos locales en este intervalo significa que el algoritmo puede converger\n",
        "# a soluciones sub-óptimas. Sobretodo porque el método del descenso del gradiente es muy propenso a caer en mínimos \n",
        "# locales, por lo que es MUY probable que llegue a una de estas soluciones sub-óptimas. Esto se evidencia con el hecho\n",
        "# de que el algoritmo cada vez que se itera da un valor diferente para la integral (pero siempre con dos cifras de precisión)."
      ]
    }
  ],
  "metadata": {
    "colab": {
      "authorship_tag": "ABX9TyO1Mf30WTliTbG3ZOEcAHv0",
      "include_colab_link": true,
      "provenance": []
    },
    "kernelspec": {
      "display_name": "Python 3",
      "name": "python3"
    },
    "language_info": {
      "codemirror_mode": {
        "name": "ipython",
        "version": 3
      },
      "file_extension": ".py",
      "mimetype": "text/x-python",
      "name": "python",
      "nbconvert_exporter": "python",
      "pygments_lexer": "ipython3",
      "version": "3.12.7"
    }
  },
  "nbformat": 4,
  "nbformat_minor": 0
}
