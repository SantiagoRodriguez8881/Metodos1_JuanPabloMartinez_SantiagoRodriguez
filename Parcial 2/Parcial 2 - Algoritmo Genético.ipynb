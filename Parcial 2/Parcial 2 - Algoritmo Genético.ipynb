{
  "cells": [
    {
      "cell_type": "markdown",
      "metadata": {
        "colab_type": "text",
        "id": "view-in-github"
      },
      "source": [
        "<a href=\"https://colab.research.google.com/github/asegura4488/MetodosComputacionalesI/blob/main/ProyectoML/EvolutivoLineal.ipynb\" target=\"_parent\"><img src=\"https://colab.research.google.com/assets/colab-badge.svg\" alt=\"Open In Colab\"/></a>"
      ]
    },
    {
      "cell_type": "code",
      "execution_count": 1261,
      "metadata": {
        "id": "BduhNRtc8tli"
      },
      "outputs": [],
      "source": [
        "import numpy as np\n",
        "import matplotlib.pyplot as plt\n",
        "import copy"
      ]
    },
    {
      "cell_type": "code",
      "execution_count": 1262,
      "metadata": {
        "id": "2KljvSn_89vQ"
      },
      "outputs": [],
      "source": [
        "#a)\n",
        "C = np.array([8.51,10.68,12.24,13.66,15.37,17.15,19.66,24.69])\n",
        "#b)\n",
        "G = lambda w, C: min(1000000*(w*C - 1))\n"
      ]
    },
    {
      "cell_type": "code",
      "execution_count": 1263,
      "metadata": {
        "id": "yp-zSaOl8_Kp"
      },
      "outputs": [],
      "source": [
        "def GetF(G,r,C):\n",
        "    return G(r,C)"
      ]
    },
    {
      "cell_type": "code",
      "execution_count": 1264,
      "metadata": {},
      "outputs": [],
      "source": [
        "def Metric(G,r,C):\n",
        "    return G(r,C)"
      ]
    },
    {
      "cell_type": "code",
      "execution_count": 1265,
      "metadata": {
        "id": "pXQvqxTm9HxN"
      },
      "outputs": [],
      "source": [
        "#c)\n",
        "class Robot:\n",
        "    def __init__(self,f,R,C,Id=0,rate=0.01):\n",
        "\n",
        "        self.Id = Id\n",
        "        # Mutation Rate\n",
        "        self.rate = rate\n",
        "        self.Fitness = -np.inf\n",
        "        #Función de retorno y vector de cuotas\n",
        "        self.R = R\n",
        "        self.C = C\n",
        "        # Metrica a minimizar\n",
        "        self.f = f\n",
        "\n",
        "        # Espacio de parámetros\n",
        "        self.r = np.random.uniform(0.,1., size=self.C.shape[0]) #d)\n",
        "        self.r = self.r / np.sum(self.r) \n",
        "\n",
        "    def Mutate(self):\n",
        "        #e)\n",
        "        self.r += np.random.normal(loc=0., scale=self.rate, size=self.C.shape[0])\n",
        "        self.r = np.abs(self.r)\n",
        "        self.r = self.r / np.sum(self.r)\n",
        "\n",
        "    def GetR(self): #Get posición Robot\n",
        "        return self.r\n",
        "\n",
        "    def SetFitness(self):\n",
        "        self.Fitness = self.f(self.R,self.GetR(),self.C)\n",
        "\n",
        "        # Fine tunning\n",
        "        if self.Fitness > 500000:\n",
        "            self.rate = 0.005\n",
        "\n",
        "\n",
        "    def GetFitness(self):\n",
        "        return self.Fitness"
      ]
    },
    {
      "cell_type": "code",
      "execution_count": 1266,
      "metadata": {
        "id": "hSZOf6hQ9KiB"
      },
      "outputs": [],
      "source": [
        "def GetRobots(N):\n",
        "\n",
        "    Robots = []\n",
        "\n",
        "    for i in range(N):\n",
        "        r = Robot(Metric,R=G,C=C,Id=i)\n",
        "        Robots.append(r)\n",
        "\n",
        "    return Robots"
      ]
    },
    {
      "cell_type": "code",
      "execution_count": 1267,
      "metadata": {},
      "outputs": [],
      "source": [
        "def Plotter(e):\n",
        "\n",
        "    fig = plt.figure(figsize=(10,5))\n",
        "    ax1 = fig.add_subplot(122)\n",
        "\n",
        "    return ax1"
      ]
    },
    {
      "cell_type": "code",
      "execution_count": 1268,
      "metadata": {
        "id": "FNm4nEd79MNu"
      },
      "outputs": [
        {
          "data": {
            "image/png": "[encoded data removed]",
            "text/plain": [
              "<Figure size 1000x500 with 1 Axes>"
            ]
          },
          "metadata": {},
          "output_type": "display_data"
        },
        {
          "data": {
            "text/plain": [
              "array([0.20115325, 0.15959388, 0.1397517 , 0.13065171, 0.11373418,\n",
              "       0.10012571, 0.0848868 , 0.07010278])"
            ]
          },
          "execution_count": 1268,
          "metadata": {},
          "output_type": "execute_result"
        }
      ],
      "source": [
        "#f)\n",
        "def GetF(G,r,C):\n",
        "    return G(r,C)\n",
        "\n",
        "def Metric(G,r,C):\n",
        "    return G(r,C)\n",
        "\n",
        "def GetRobots(N):\n",
        "    Robots = []\n",
        "    for i in range(N):\n",
        "        r = Robot(Metric,R=G,C=C,Id=i)\n",
        "        Robots.append(r)\n",
        "    return Robots\n",
        "\n",
        "def Plotter(e):\n",
        "    fig = plt.figure(figsize=(10,5))\n",
        "    ax1 = fig.add_subplot(122)\n",
        "    return ax1\n",
        "\n",
        "def Genetic(Robots, epochs = 500):\n",
        "    N = int(0.5*len(Robots))\n",
        "    Fitness = np.array([])\n",
        "    for e in range(int(epochs)):\n",
        "        for i,p in enumerate(Robots):\n",
        "            p.Mutate()\n",
        "            p.SetFitness()\n",
        "        scores = [ (p.Fitness, p) for p in Robots ]\n",
        "        scores.sort(key = lambda x: x[0], reverse = True)\n",
        "        Temp = [r[1] for i,r in enumerate(scores) if i < N ]\n",
        "        for i,r in enumerate(Robots):\n",
        "            j = i%N\n",
        "            Robots[i] = copy.deepcopy(Temp[j])\n",
        "        Fitness_ = [r.GetFitness() for i,r in enumerate(Robots)]\n",
        "        Fitness = np.append(Fitness,np.mean(Fitness_))\n",
        "        best_robot = max(Robots, key=lambda r: r.GetFitness())\n",
        "        \n",
        "    ax1 = Plotter(e)\n",
        "    ax1.set_title('Learning curve')\n",
        "    ax1.plot(Fitness,color='k')\n",
        "    ax1.set_xlabel('Epoch')\n",
        "    ax1.set_ylabel('Investment return')\n",
        "    plt.show()\n",
        "    return best_robot.GetR()\n",
        "\n",
        "Robots = GetRobots(500)\n",
        "w = Genetic(Robots)\n",
        "w"
      ]
    },
    {
      "cell_type": "code",
      "execution_count": 1269,
      "metadata": {},
      "outputs": [
        {
          "name": "stdout",
          "output_type": "stream",
          "text": [
            "Hay que invertir 201154.0 en la opción 1\n",
            "Hay que invertir 159595.0 en la opción 2\n",
            "Hay que invertir 139753.0 en la opción 3\n",
            "Hay que invertir 130653.0 en la opción 4\n",
            "Hay que invertir 113735.0 en la opción 5\n",
            "Hay que invertir 100127.0 en la opción 6\n",
            "Hay que invertir 84888.0 en la opción 7\n",
            "Hay que invertir 70104.0 en la opción 8\n"
          ]
        }
      ],
      "source": [
        "#g)\n",
        "Inversion = (np.round(1000000*w))\n",
        "for i in range(len(Inversion)):\n",
        "    print(f\"Hay que invertir {Inversion[i]+1} en la opción {i+1}\")\n"
      ]
    },
    {
      "cell_type": "code",
      "execution_count": 1270,
      "metadata": {},
      "outputs": [
        {
          "name": "stdout",
          "output_type": "stream",
          "text": [
            "El retorno minimo posible con la ponderación w es 668874\n",
            "El retorno maximo posible con la ponderación w es 784702\n"
          ]
        }
      ],
      "source": [
        "Gmax = lambda w, C: max(1000000*(w*C - 1))\n",
        "print(f\"El retorno minimo posible con la ponderación w es {round(G(w,C))}\")\n",
        "print(f\"El retorno maximo posible con la ponderación w es {round(Gmax(w,C))}\")\n",
        "#Efectivamente, hay ganancia de dinero en cualquier escenario."
      ]
    }
  ],
  "metadata": {
    "colab": {
      "authorship_tag": "ABX9TyNH5immzTw24lOjNt+/VQLL",
      "include_colab_link": true,
      "provenance": []
    },
    "kernelspec": {
      "display_name": "Python 3",
      "name": "python3"
    },
    "language_info": {
      "codemirror_mode": {
        "name": "ipython",
        "version": 3
      },
      "file_extension": ".py",
      "mimetype": "text/x-python",
      "name": "python",
      "nbconvert_exporter": "python",
      "pygments_lexer": "ipython3",
      "version": "3.12.7"
    }
  },
  "nbformat": 4,
  "nbformat_minor": 0
}
