{
 "cells": [
  {
   "cell_type": "code",
   "execution_count": 26,
   "metadata": {},
   "outputs": [],
   "source": [
    "import matplotlib.pyplot as plt\n",
    "import numpy as np\n",
    "import sympy as sym\n",
    "import math \n",
    "from scipy.special import laguerre"
   ]
  },
  {
   "cell_type": "code",
   "execution_count": 27,
   "metadata": {},
   "outputs": [
    {
     "data": {
      "text/plain": [
       "{'Raices de del polinomio 1 de Laguerre': [1.0],\n",
       " 'Raices de del polinomio 2 de Laguerre': [0.5858, 3.4142],\n",
       " 'Raices de del polinomio 3 de Laguerre': [0.4158, 2.2943, 6.2899],\n",
       " 'Raices de del polinomio 4 de Laguerre': [0.3225, 1.7458, 4.5366, 9.3951],\n",
       " 'Raices de del polinomio 5 de Laguerre': [0.2636,\n",
       "  1.4134,\n",
       "  3.5964,\n",
       "  7.0858,\n",
       "  12.6408]}"
      ]
     },
     "execution_count": 27,
     "metadata": {},
     "output_type": "execute_result"
    }
   ],
   "source": [
    "Raices_Laguerre = {}\n",
    "x = sym.Symbol(\"x\", real=True)\n",
    "X = np.linspace(0,100,10000)\n",
    "\n",
    "def Laguerre(x,n):\n",
    "    exp_factorial = sym.exp(x)/math.factorial(n)\n",
    "    funcion_para_derivar = (x**n)*sym.exp(-x)\n",
    "    return exp_factorial*sym.diff(funcion_para_derivar,x,n)\n",
    "\n",
    "def DerivadaCentral(f,x,h=1e-5):\n",
    "    return (f(x+h)-f(x-h))/(2*h)\n",
    "\n",
    "def NewtonRaphson(f, xn, i_max = 1000, tolerancia=1e-6):\n",
    "    error = 1\n",
    "    i = 0\n",
    "    xn1 = xn\n",
    "    while error > tolerancia and i < i_max:\n",
    "        try:\n",
    "            xn1 = xn - f(xn)/DerivadaCentral(f,xn)\n",
    "            error = np.abs(f(xn)/DerivadaCentral(f,xn))\n",
    "        except ZeroDivisionError:\n",
    "            return None\n",
    "        xn = xn1\n",
    "        i += 1\n",
    "    if i == i_max:\n",
    "        return False\n",
    "    else:\n",
    "        return xn\n",
    "\n",
    "def GetAllRoots(f, x, tolerancia = 4):\n",
    "    Roots = np.array([])\n",
    "    for i in x:\n",
    "        possible_root = NewtonRaphson(f,i)\n",
    "\n",
    "        if possible_root != False:\n",
    "            root = round(possible_root, tolerancia)\n",
    "            if root not in Roots:\n",
    "                Roots = np.append(Roots, root)\n",
    "\n",
    "    Roots.sort()\n",
    "    return Roots\n",
    "\n",
    "for i in range(1,6):\n",
    "    Poly_Laguerre_Sym = Laguerre(x,i)\n",
    "    Poly_Laguerre = sym.lambdify([x], Poly_Laguerre_Sym,\"numpy\")\n",
    "    Raices = GetAllRoots(Poly_Laguerre, X)\n",
    "    Raices_Laguerre[f\"Raices de del polinomio {i} de Laguerre\"] = Raices.tolist()\n",
    "Raices_Laguerre\n",
    "\n"
   ]
  },
  {
   "cell_type": "code",
   "execution_count": 28,
   "metadata": {},
   "outputs": [
    {
     "name": "stdout",
     "output_type": "stream",
     "text": [
      "Raíces del polinomio L_1(x):\n",
      "[1.]\n",
      "\n",
      "Raíces del polinomio L_2(x):\n",
      "[3.4142 0.5858]\n",
      "\n",
      "Raíces del polinomio L_3(x):\n",
      "[6.2899 2.2943 0.4158]\n",
      "\n",
      "Raíces del polinomio L_4(x):\n",
      "[9.3951 4.5366 1.7458 0.3225]\n",
      "\n",
      "Raíces del polinomio L_5(x):\n",
      "[12.6408  7.0858  3.5964  1.4134  0.2636]\n",
      "\n"
     ]
    }
   ],
   "source": [
    "#Para comparar (Código hecho con chatgpt)\n",
    "def laguerre_roots(n):\n",
    "    # Genera los coeficientes del polinomio de Laguerre\n",
    "    coef = laguerre(n, monic=True)\n",
    "    # Encuentra las raíces del polinomio\n",
    "    roots = np.roots(coef)\n",
    "    return roots\n",
    "\n",
    "for n in range(1, 6):\n",
    "    roots = laguerre_roots(n)\n",
    "    print(f\"Raíces del polinomio L_{n}(x):\")\n",
    "    print(np.round(roots, 4))\n",
    "    print()"
   ]
  }
 ],
 "metadata": {
  "kernelspec": {
   "display_name": "Python 3",
   "language": "python",
   "name": "python3"
  },
  "language_info": {
   "codemirror_mode": {
    "name": "ipython",
    "version": 3
   },
   "file_extension": ".py",
   "mimetype": "text/x-python",
   "name": "python",
   "nbconvert_exporter": "python",
   "pygments_lexer": "ipython3",
   "version": "3.12.6"
  }
 },
 "nbformat": 4,
 "nbformat_minor": 2
}
