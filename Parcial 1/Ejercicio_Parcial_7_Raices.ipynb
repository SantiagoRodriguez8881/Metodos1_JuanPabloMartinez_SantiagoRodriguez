{
 "cells": [
  {
   "cell_type": "code",
   "execution_count": 35,
   "metadata": {},
   "outputs": [],
   "source": [
    "import matplotlib.pyplot as plt\n",
    "import numpy as np"
   ]
  },
  {
   "cell_type": "code",
   "execution_count": 36,
   "metadata": {},
   "outputs": [
    {
     "data": {
      "text/plain": [
       "<matplotlib.collections.PathCollection at 0x1b767b28350>"
      ]
     },
     "execution_count": 36,
     "metadata": {},
     "output_type": "execute_result"
    },
    {
     "data": {
      "image/png": "[encoded data removed]",
      "text/plain": [
       "<Figure size 640x480 with 1 Axes>"
      ]
     },
     "metadata": {},
     "output_type": "display_data"
    }
   ],
   "source": [
    "#Ejercicio 7 (Raíces de Polinomios)\n",
    "#b) Cualitativamente parece que el mínimo es en x=0.30, t=2.43\n",
    "def TiempoViaje(x):\n",
    "    return (((x+3)**2 + 4)**(1/2) + 1.33*((x-2)**2 + 4)**(1/2))/300000\n",
    "\n",
    "#En la función de arriba se pusieron los valores de posición directamente en la formula\n",
    "#Por si algo, +3=-T[0], 4=T[1]^2, 2=-R[0]^2, 4=R[1]^2\n",
    "\n",
    "X = np.linspace(-3,2,5000)\n",
    "t = TiempoViaje(X)\n",
    "plt.scatter(X,t)\n",
    "\n"
   ]
  },
  {
   "cell_type": "code",
   "execution_count": 37,
   "metadata": {},
   "outputs": [
    {
     "name": "stdout",
     "output_type": "stream",
     "text": [
      "El tiempo mínimo es 2.449931892295416e-05 segundos\n"
     ]
    }
   ],
   "source": [
    "#c)\n",
    "def DerivadaCentral(f,x,h=1e-5):\n",
    "    return (f(x+h)-f(x-h))/(2*h)\n",
    "def SegundaDerivadaCentral(f,x,h=1e-5):\n",
    "    return (f(x+h) - 2*f(x) + f(x-h))/(h**2)\n",
    "\n",
    "def NewtonRaphsonC(f, xn, i_max = 1000, tolerancia=1e-9):\n",
    "    error = 1\n",
    "    i = 0\n",
    "    xn1 = xn\n",
    "    while error > tolerancia and i < i_max:\n",
    "        try:\n",
    "            xn1 = xn - DerivadaCentral(f,xn)/SegundaDerivadaCentral(f,xn)\n",
    "            error = np.abs(DerivadaCentral(f,xn)/SegundaDerivadaCentral(f,xn))\n",
    "        except ZeroDivisionError:\n",
    "            pass\n",
    "        xn = xn1\n",
    "        i += 1\n",
    "    if i == i_max:\n",
    "        return False\n",
    "    else:\n",
    "        return xn\n",
    "    \n",
    "def GetAllRootsC(f, x, tolerancia = 6):\n",
    "    Roots = np.array([])\n",
    "    for i in x:\n",
    "        possible_root = NewtonRaphsonC(f,i)\n",
    "\n",
    "        if possible_root != False:\n",
    "            root = round(possible_root, tolerancia)\n",
    "            if root not in Roots:\n",
    "                Roots = np.append(Roots, root)\n",
    "\n",
    "    Roots.sort()\n",
    "    return Roots\n",
    "\n",
    "PuntoCritico = GetAllRootsC(TiempoViaje,X)\n",
    "PuntoCritico = float(PuntoCritico[0])\n",
    "TiempoMinimo = TiempoViaje(PuntoCritico)\n",
    "print(f\"El tiempo mínimo es {TiempoMinimo} segundos\")"
   ]
  },
  {
   "cell_type": "code",
   "execution_count": 38,
   "metadata": {},
   "outputs": [
    {
     "name": "stdout",
     "output_type": "stream",
     "text": [
      "Respecto al eje y POSITIVO, el angulo de incidencia es 301.09000000000003 grados, y el de refracción es 139.92000000000002 grados.\n"
     ]
    }
   ],
   "source": [
    "#d) Aquí se pasó la respuesta a grados respecto al EJE Y POSITIVO para que pudiera ser leido mejor.\n",
    "tan_alpha0 = -(PuntoCritico+3)/2\n",
    "alpha0 = np.arctan(tan_alpha0)\n",
    "tan_alpha1 = -(2-PuntoCritico)/2\n",
    "alpha1 = np.arctan(tan_alpha1)\n",
    "alpha0_grados =round(float(np.degrees(alpha0)),2)\n",
    "alpha1_grados =round(float(np.degrees(alpha1)),2)\n",
    "print(f\"Respecto al eje y POSITIVO, el angulo de incidencia es {360+alpha0_grados} grados, y el de refracción es {180+alpha1_grados} grados.\")"
   ]
  },
  {
   "cell_type": "code",
   "execution_count": 39,
   "metadata": {},
   "outputs": [
    {
     "data": {
      "text/plain": [
       "(0.7518796992481203, 0.7518796210675457)"
      ]
     },
     "execution_count": 39,
     "metadata": {},
     "output_type": "execute_result"
    }
   ],
   "source": [
    "#e.\n",
    "1/1.33, float(np.sin(alpha1)/np.sin(alpha0))\n",
    "#Si se cumple la ley de Snell porque ambos cocientes son iguales hasta 7 decimales"
   ]
  }
 ],
 "metadata": {
  "kernelspec": {
   "display_name": "Python 3",
   "language": "python",
   "name": "python3"
  },
  "language_info": {
   "codemirror_mode": {
    "name": "ipython",
    "version": 3
   },
   "file_extension": ".py",
   "mimetype": "text/x-python",
   "name": "python",
   "nbconvert_exporter": "python",
   "pygments_lexer": "ipython3",
   "version": "3.12.6"
  }
 },
 "nbformat": 4,
 "nbformat_minor": 2
}
